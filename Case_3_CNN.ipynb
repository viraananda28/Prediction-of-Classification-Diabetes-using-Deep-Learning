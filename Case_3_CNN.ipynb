{
 "cells": [
  {
   "cell_type": "markdown",
   "metadata": {
    "id": "G-_K8Hmkitcu",
    "tags": []
   },
   "source": [
    "### **Basic Properties**"
   ]
  },
  {
   "cell_type": "markdown",
   "metadata": {
    "id": "6Rxe7BHKi0xU",
    "tags": []
   },
   "source": [
    "#### **Import Library**"
   ]
  },
  {
   "cell_type": "code",
   "execution_count": 44,
   "metadata": {
    "id": "zaXOz-Ft3vPz"
   },
   "outputs": [],
   "source": [
    "#!pip install torch\n",
    "#!pip install sklearn\n",
    "#!pip install tensorflow\n",
    "#!pip install pydot\n",
    "#!pip install graphviz"
   ]
  },
  {
   "cell_type": "code",
   "execution_count": 2,
   "metadata": {
    "id": "D7om9V4-itzw"
   },
   "outputs": [
    {
     "name": "stderr",
     "output_type": "stream",
     "text": [
      "C:\\Users\\ASUS\\anaconda3\\lib\\site-packages\\scipy\\__init__.py:146: UserWarning: A NumPy version >=1.16.5 and <1.23.0 is required for this version of SciPy (detected version 1.26.4\n",
      "  warnings.warn(f\"A NumPy version >={np_minversion} and <{np_maxversion}\"\n"
     ]
    }
   ],
   "source": [
    "# Import Basic Library\n",
    "import numpy as np\n",
    "import pandas as pd\n",
    "import matplotlib.pyplot as plt\n",
    "import seaborn as sns\n",
    "\n",
    "#import warnings\n",
    "#warnings.filterwarnings(\"ignore\")"
   ]
  },
  {
   "cell_type": "markdown",
   "metadata": {
    "id": "WdeTCggoiiRd",
    "tags": []
   },
   "source": [
    "### **Data Preparation**"
   ]
  },
  {
   "cell_type": "markdown",
   "metadata": {
    "id": "nXN9_6jitT31",
    "tags": []
   },
   "source": [
    "#### **Import DataSet**"
   ]
  },
  {
   "cell_type": "code",
   "execution_count": 3,
   "metadata": {
    "colab": {
     "base_uri": "https://localhost:8080/",
     "height": 478
    },
    "executionInfo": {
     "elapsed": 373,
     "status": "ok",
     "timestamp": 1653552096053,
     "user": {
      "displayName": "Owen Nathanael H.",
      "userId": "07566894094871464303"
     },
     "user_tz": -420
    },
    "id": "3WFzoHqUFZ8H",
    "outputId": "830940b0-0ce9-40e7-c557-644dcbe7c294"
   },
   "outputs": [
    {
     "data": {
      "text/html": [
       "<div>\n",
       "<style scoped>\n",
       "    .dataframe tbody tr th:only-of-type {\n",
       "        vertical-align: middle;\n",
       "    }\n",
       "\n",
       "    .dataframe tbody tr th {\n",
       "        vertical-align: top;\n",
       "    }\n",
       "\n",
       "    .dataframe thead th {\n",
       "        text-align: right;\n",
       "    }\n",
       "</style>\n",
       "<table border=\"1\" class=\"dataframe\">\n",
       "  <thead>\n",
       "    <tr style=\"text-align: right;\">\n",
       "      <th></th>\n",
       "      <th>Diabetes_binary</th>\n",
       "      <th>HighBP</th>\n",
       "      <th>HighChol</th>\n",
       "      <th>CholCheck</th>\n",
       "      <th>BMI</th>\n",
       "      <th>Smoker</th>\n",
       "      <th>Stroke</th>\n",
       "      <th>HeartDiseaseorAttack</th>\n",
       "      <th>PhysActivity</th>\n",
       "      <th>Fruits</th>\n",
       "      <th>...</th>\n",
       "      <th>AnyHealthcare</th>\n",
       "      <th>NoDocbcCost</th>\n",
       "      <th>GenHlth</th>\n",
       "      <th>MentHlth</th>\n",
       "      <th>PhysHlth</th>\n",
       "      <th>DiffWalk</th>\n",
       "      <th>Sex</th>\n",
       "      <th>Age</th>\n",
       "      <th>Education</th>\n",
       "      <th>Income</th>\n",
       "    </tr>\n",
       "  </thead>\n",
       "  <tbody>\n",
       "    <tr>\n",
       "      <th>0</th>\n",
       "      <td>0.0</td>\n",
       "      <td>1.0</td>\n",
       "      <td>0.0</td>\n",
       "      <td>1.0</td>\n",
       "      <td>26.0</td>\n",
       "      <td>0.0</td>\n",
       "      <td>0.0</td>\n",
       "      <td>0.0</td>\n",
       "      <td>1.0</td>\n",
       "      <td>0.0</td>\n",
       "      <td>...</td>\n",
       "      <td>1.0</td>\n",
       "      <td>0.0</td>\n",
       "      <td>3.0</td>\n",
       "      <td>5.0</td>\n",
       "      <td>30.0</td>\n",
       "      <td>0.0</td>\n",
       "      <td>1.0</td>\n",
       "      <td>4.0</td>\n",
       "      <td>6.0</td>\n",
       "      <td>8.0</td>\n",
       "    </tr>\n",
       "    <tr>\n",
       "      <th>1</th>\n",
       "      <td>0.0</td>\n",
       "      <td>1.0</td>\n",
       "      <td>1.0</td>\n",
       "      <td>1.0</td>\n",
       "      <td>26.0</td>\n",
       "      <td>1.0</td>\n",
       "      <td>1.0</td>\n",
       "      <td>0.0</td>\n",
       "      <td>0.0</td>\n",
       "      <td>1.0</td>\n",
       "      <td>...</td>\n",
       "      <td>1.0</td>\n",
       "      <td>0.0</td>\n",
       "      <td>3.0</td>\n",
       "      <td>0.0</td>\n",
       "      <td>0.0</td>\n",
       "      <td>0.0</td>\n",
       "      <td>1.0</td>\n",
       "      <td>12.0</td>\n",
       "      <td>6.0</td>\n",
       "      <td>8.0</td>\n",
       "    </tr>\n",
       "    <tr>\n",
       "      <th>2</th>\n",
       "      <td>0.0</td>\n",
       "      <td>0.0</td>\n",
       "      <td>0.0</td>\n",
       "      <td>1.0</td>\n",
       "      <td>26.0</td>\n",
       "      <td>0.0</td>\n",
       "      <td>0.0</td>\n",
       "      <td>0.0</td>\n",
       "      <td>1.0</td>\n",
       "      <td>1.0</td>\n",
       "      <td>...</td>\n",
       "      <td>1.0</td>\n",
       "      <td>0.0</td>\n",
       "      <td>1.0</td>\n",
       "      <td>0.0</td>\n",
       "      <td>10.0</td>\n",
       "      <td>0.0</td>\n",
       "      <td>1.0</td>\n",
       "      <td>13.0</td>\n",
       "      <td>6.0</td>\n",
       "      <td>8.0</td>\n",
       "    </tr>\n",
       "    <tr>\n",
       "      <th>3</th>\n",
       "      <td>0.0</td>\n",
       "      <td>1.0</td>\n",
       "      <td>1.0</td>\n",
       "      <td>1.0</td>\n",
       "      <td>28.0</td>\n",
       "      <td>1.0</td>\n",
       "      <td>0.0</td>\n",
       "      <td>0.0</td>\n",
       "      <td>1.0</td>\n",
       "      <td>1.0</td>\n",
       "      <td>...</td>\n",
       "      <td>1.0</td>\n",
       "      <td>0.0</td>\n",
       "      <td>3.0</td>\n",
       "      <td>0.0</td>\n",
       "      <td>3.0</td>\n",
       "      <td>0.0</td>\n",
       "      <td>1.0</td>\n",
       "      <td>11.0</td>\n",
       "      <td>6.0</td>\n",
       "      <td>8.0</td>\n",
       "    </tr>\n",
       "    <tr>\n",
       "      <th>4</th>\n",
       "      <td>0.0</td>\n",
       "      <td>0.0</td>\n",
       "      <td>0.0</td>\n",
       "      <td>1.0</td>\n",
       "      <td>29.0</td>\n",
       "      <td>1.0</td>\n",
       "      <td>0.0</td>\n",
       "      <td>0.0</td>\n",
       "      <td>1.0</td>\n",
       "      <td>1.0</td>\n",
       "      <td>...</td>\n",
       "      <td>1.0</td>\n",
       "      <td>0.0</td>\n",
       "      <td>2.0</td>\n",
       "      <td>0.0</td>\n",
       "      <td>0.0</td>\n",
       "      <td>0.0</td>\n",
       "      <td>0.0</td>\n",
       "      <td>8.0</td>\n",
       "      <td>5.0</td>\n",
       "      <td>8.0</td>\n",
       "    </tr>\n",
       "    <tr>\n",
       "      <th>...</th>\n",
       "      <td>...</td>\n",
       "      <td>...</td>\n",
       "      <td>...</td>\n",
       "      <td>...</td>\n",
       "      <td>...</td>\n",
       "      <td>...</td>\n",
       "      <td>...</td>\n",
       "      <td>...</td>\n",
       "      <td>...</td>\n",
       "      <td>...</td>\n",
       "      <td>...</td>\n",
       "      <td>...</td>\n",
       "      <td>...</td>\n",
       "      <td>...</td>\n",
       "      <td>...</td>\n",
       "      <td>...</td>\n",
       "      <td>...</td>\n",
       "      <td>...</td>\n",
       "      <td>...</td>\n",
       "      <td>...</td>\n",
       "      <td>...</td>\n",
       "    </tr>\n",
       "    <tr>\n",
       "      <th>70687</th>\n",
       "      <td>1.0</td>\n",
       "      <td>0.0</td>\n",
       "      <td>1.0</td>\n",
       "      <td>1.0</td>\n",
       "      <td>37.0</td>\n",
       "      <td>0.0</td>\n",
       "      <td>0.0</td>\n",
       "      <td>0.0</td>\n",
       "      <td>0.0</td>\n",
       "      <td>0.0</td>\n",
       "      <td>...</td>\n",
       "      <td>1.0</td>\n",
       "      <td>0.0</td>\n",
       "      <td>4.0</td>\n",
       "      <td>0.0</td>\n",
       "      <td>0.0</td>\n",
       "      <td>0.0</td>\n",
       "      <td>0.0</td>\n",
       "      <td>6.0</td>\n",
       "      <td>4.0</td>\n",
       "      <td>1.0</td>\n",
       "    </tr>\n",
       "    <tr>\n",
       "      <th>70688</th>\n",
       "      <td>1.0</td>\n",
       "      <td>0.0</td>\n",
       "      <td>1.0</td>\n",
       "      <td>1.0</td>\n",
       "      <td>29.0</td>\n",
       "      <td>1.0</td>\n",
       "      <td>0.0</td>\n",
       "      <td>1.0</td>\n",
       "      <td>0.0</td>\n",
       "      <td>1.0</td>\n",
       "      <td>...</td>\n",
       "      <td>1.0</td>\n",
       "      <td>0.0</td>\n",
       "      <td>2.0</td>\n",
       "      <td>0.0</td>\n",
       "      <td>0.0</td>\n",
       "      <td>1.0</td>\n",
       "      <td>1.0</td>\n",
       "      <td>10.0</td>\n",
       "      <td>3.0</td>\n",
       "      <td>6.0</td>\n",
       "    </tr>\n",
       "    <tr>\n",
       "      <th>70689</th>\n",
       "      <td>1.0</td>\n",
       "      <td>1.0</td>\n",
       "      <td>1.0</td>\n",
       "      <td>1.0</td>\n",
       "      <td>25.0</td>\n",
       "      <td>0.0</td>\n",
       "      <td>0.0</td>\n",
       "      <td>1.0</td>\n",
       "      <td>0.0</td>\n",
       "      <td>1.0</td>\n",
       "      <td>...</td>\n",
       "      <td>1.0</td>\n",
       "      <td>0.0</td>\n",
       "      <td>5.0</td>\n",
       "      <td>15.0</td>\n",
       "      <td>0.0</td>\n",
       "      <td>1.0</td>\n",
       "      <td>0.0</td>\n",
       "      <td>13.0</td>\n",
       "      <td>6.0</td>\n",
       "      <td>4.0</td>\n",
       "    </tr>\n",
       "    <tr>\n",
       "      <th>70690</th>\n",
       "      <td>1.0</td>\n",
       "      <td>1.0</td>\n",
       "      <td>1.0</td>\n",
       "      <td>1.0</td>\n",
       "      <td>18.0</td>\n",
       "      <td>0.0</td>\n",
       "      <td>0.0</td>\n",
       "      <td>0.0</td>\n",
       "      <td>0.0</td>\n",
       "      <td>0.0</td>\n",
       "      <td>...</td>\n",
       "      <td>1.0</td>\n",
       "      <td>0.0</td>\n",
       "      <td>4.0</td>\n",
       "      <td>0.0</td>\n",
       "      <td>0.0</td>\n",
       "      <td>1.0</td>\n",
       "      <td>0.0</td>\n",
       "      <td>11.0</td>\n",
       "      <td>2.0</td>\n",
       "      <td>4.0</td>\n",
       "    </tr>\n",
       "    <tr>\n",
       "      <th>70691</th>\n",
       "      <td>1.0</td>\n",
       "      <td>1.0</td>\n",
       "      <td>1.0</td>\n",
       "      <td>1.0</td>\n",
       "      <td>25.0</td>\n",
       "      <td>0.0</td>\n",
       "      <td>0.0</td>\n",
       "      <td>1.0</td>\n",
       "      <td>1.0</td>\n",
       "      <td>1.0</td>\n",
       "      <td>...</td>\n",
       "      <td>1.0</td>\n",
       "      <td>0.0</td>\n",
       "      <td>2.0</td>\n",
       "      <td>0.0</td>\n",
       "      <td>0.0</td>\n",
       "      <td>0.0</td>\n",
       "      <td>0.0</td>\n",
       "      <td>9.0</td>\n",
       "      <td>6.0</td>\n",
       "      <td>2.0</td>\n",
       "    </tr>\n",
       "  </tbody>\n",
       "</table>\n",
       "<p>70692 rows × 22 columns</p>\n",
       "</div>"
      ],
      "text/plain": [
       "       Diabetes_binary  HighBP  HighChol  CholCheck   BMI  Smoker  Stroke  \\\n",
       "0                  0.0     1.0       0.0        1.0  26.0     0.0     0.0   \n",
       "1                  0.0     1.0       1.0        1.0  26.0     1.0     1.0   \n",
       "2                  0.0     0.0       0.0        1.0  26.0     0.0     0.0   \n",
       "3                  0.0     1.0       1.0        1.0  28.0     1.0     0.0   \n",
       "4                  0.0     0.0       0.0        1.0  29.0     1.0     0.0   \n",
       "...                ...     ...       ...        ...   ...     ...     ...   \n",
       "70687              1.0     0.0       1.0        1.0  37.0     0.0     0.0   \n",
       "70688              1.0     0.0       1.0        1.0  29.0     1.0     0.0   \n",
       "70689              1.0     1.0       1.0        1.0  25.0     0.0     0.0   \n",
       "70690              1.0     1.0       1.0        1.0  18.0     0.0     0.0   \n",
       "70691              1.0     1.0       1.0        1.0  25.0     0.0     0.0   \n",
       "\n",
       "       HeartDiseaseorAttack  PhysActivity  Fruits  ...  AnyHealthcare  \\\n",
       "0                       0.0           1.0     0.0  ...            1.0   \n",
       "1                       0.0           0.0     1.0  ...            1.0   \n",
       "2                       0.0           1.0     1.0  ...            1.0   \n",
       "3                       0.0           1.0     1.0  ...            1.0   \n",
       "4                       0.0           1.0     1.0  ...            1.0   \n",
       "...                     ...           ...     ...  ...            ...   \n",
       "70687                   0.0           0.0     0.0  ...            1.0   \n",
       "70688                   1.0           0.0     1.0  ...            1.0   \n",
       "70689                   1.0           0.0     1.0  ...            1.0   \n",
       "70690                   0.0           0.0     0.0  ...            1.0   \n",
       "70691                   1.0           1.0     1.0  ...            1.0   \n",
       "\n",
       "       NoDocbcCost  GenHlth  MentHlth  PhysHlth  DiffWalk  Sex   Age  \\\n",
       "0              0.0      3.0       5.0      30.0       0.0  1.0   4.0   \n",
       "1              0.0      3.0       0.0       0.0       0.0  1.0  12.0   \n",
       "2              0.0      1.0       0.0      10.0       0.0  1.0  13.0   \n",
       "3              0.0      3.0       0.0       3.0       0.0  1.0  11.0   \n",
       "4              0.0      2.0       0.0       0.0       0.0  0.0   8.0   \n",
       "...            ...      ...       ...       ...       ...  ...   ...   \n",
       "70687          0.0      4.0       0.0       0.0       0.0  0.0   6.0   \n",
       "70688          0.0      2.0       0.0       0.0       1.0  1.0  10.0   \n",
       "70689          0.0      5.0      15.0       0.0       1.0  0.0  13.0   \n",
       "70690          0.0      4.0       0.0       0.0       1.0  0.0  11.0   \n",
       "70691          0.0      2.0       0.0       0.0       0.0  0.0   9.0   \n",
       "\n",
       "       Education  Income  \n",
       "0            6.0     8.0  \n",
       "1            6.0     8.0  \n",
       "2            6.0     8.0  \n",
       "3            6.0     8.0  \n",
       "4            5.0     8.0  \n",
       "...          ...     ...  \n",
       "70687        4.0     1.0  \n",
       "70688        3.0     6.0  \n",
       "70689        6.0     4.0  \n",
       "70690        2.0     4.0  \n",
       "70691        6.0     2.0  \n",
       "\n",
       "[70692 rows x 22 columns]"
      ]
     },
     "metadata": {},
     "output_type": "display_data"
    }
   ],
   "source": [
    "# Load Data\n",
    "#df = pd.read_csv('diabetes_012_health_indicators_BRFSS2015.csv')\n",
    "df = pd.read_csv('diabetes_binary_5050split_health_indicators_BRFSS2015.csv')\n",
    "\n",
    "display(df)"
   ]
  },
  {
   "cell_type": "markdown",
   "metadata": {
    "tags": []
   },
   "source": [
    "#### **Data Preprocessing**"
   ]
  },
  {
   "cell_type": "code",
   "execution_count": 4,
   "metadata": {},
   "outputs": [
    {
     "name": "stdout",
     "output_type": "stream",
     "text": [
      "<class 'pandas.core.frame.DataFrame'>\n",
      "RangeIndex: 70692 entries, 0 to 70691\n",
      "Data columns (total 22 columns):\n",
      " #   Column                Non-Null Count  Dtype  \n",
      "---  ------                --------------  -----  \n",
      " 0   Diabetes_binary       70692 non-null  float64\n",
      " 1   HighBP                70692 non-null  float64\n",
      " 2   HighChol              70692 non-null  float64\n",
      " 3   CholCheck             70692 non-null  float64\n",
      " 4   BMI                   70692 non-null  float64\n",
      " 5   Smoker                70692 non-null  float64\n",
      " 6   Stroke                70692 non-null  float64\n",
      " 7   HeartDiseaseorAttack  70692 non-null  float64\n",
      " 8   PhysActivity          70692 non-null  float64\n",
      " 9   Fruits                70692 non-null  float64\n",
      " 10  Veggies               70692 non-null  float64\n",
      " 11  HvyAlcoholConsump     70692 non-null  float64\n",
      " 12  AnyHealthcare         70692 non-null  float64\n",
      " 13  NoDocbcCost           70692 non-null  float64\n",
      " 14  GenHlth               70692 non-null  float64\n",
      " 15  MentHlth              70692 non-null  float64\n",
      " 16  PhysHlth              70692 non-null  float64\n",
      " 17  DiffWalk              70692 non-null  float64\n",
      " 18  Sex                   70692 non-null  float64\n",
      " 19  Age                   70692 non-null  float64\n",
      " 20  Education             70692 non-null  float64\n",
      " 21  Income                70692 non-null  float64\n",
      "dtypes: float64(22)\n",
      "memory usage: 11.9 MB\n"
     ]
    }
   ],
   "source": [
    "# Initial Data Information\n",
    "df.info()"
   ]
  },
  {
   "cell_type": "code",
   "execution_count": 5,
   "metadata": {},
   "outputs": [
    {
     "data": {
      "image/png": "[encoded data removed]",
      "text/plain": [
       "<Figure size 432x288 with 1 Axes>"
      ]
     },
     "metadata": {
      "needs_background": "light"
     },
     "output_type": "display_data"
    },
    {
     "data": {
      "image/png": "[encoded data removed]",
      "text/plain": [
       "<Figure size 432x288 with 1 Axes>"
      ]
     },
     "metadata": {
      "needs_background": "light"
     },
     "output_type": "display_data"
    },
    {
     "data": {
      "image/png": "[encoded data removed]",
      "text/plain": [
       "<Figure size 432x288 with 1 Axes>"
      ]
     },
     "metadata": {
      "needs_background": "light"
     },
     "output_type": "display_data"
    },
    {
     "data": {
      "image/png": "[encoded data removed]",
      "text/plain": [
       "<Figure size 432x288 with 1 Axes>"
      ]
     },
     "metadata": {
      "needs_background": "light"
     },
     "output_type": "display_data"
    },
    {
     "data": {
      "image/png": "[encoded data removed]",
      "text/plain": [
       "<Figure size 432x288 with 1 Axes>"
      ]
     },
     "metadata": {
      "needs_background": "light"
     },
     "output_type": "display_data"
    },
    {
     "data": {
      "image/png": "[encoded data removed]",
      "text/plain": [
       "<Figure size 432x288 with 1 Axes>"
      ]
     },
     "metadata": {
      "needs_background": "light"
     },
     "output_type": "display_data"
    },
    {
     "data": {
      "image/png": "[encoded data removed]",
      "text/plain": [
       "<Figure size 432x288 with 1 Axes>"
      ]
     },
     "metadata": {
      "needs_background": "light"
     },
     "output_type": "display_data"
    },
    {
     "data": {
      "image/png": "[encoded data removed]",
      "text/plain": [
       "<Figure size 432x288 with 1 Axes>"
      ]
     },
     "metadata": {
      "needs_background": "light"
     },
     "output_type": "display_data"
    },
    {
     "data": {
      "image/png": "[encoded data removed]",
      "text/plain": [
       "<Figure size 432x288 with 1 Axes>"
      ]
     },
     "metadata": {
      "needs_background": "light"
     },
     "output_type": "display_data"
    },
    {
     "data": {
      "image/png": "[encoded data removed]",
      "text/plain": [
       "<Figure size 432x288 with 1 Axes>"
      ]
     },
     "metadata": {
      "needs_background": "light"
     },
     "output_type": "display_data"
    },
    {
     "data": {
      "image/png": "[encoded data removed]",
      "text/plain": [
       "<Figure size 432x288 with 1 Axes>"
      ]
     },
     "metadata": {
      "needs_background": "light"
     },
     "output_type": "display_data"
    },
    {
     "data": {
      "image/png": "[encoded data removed]",
      "text/plain": [
       "<Figure size 432x288 with 1 Axes>"
      ]
     },
     "metadata": {
      "needs_background": "light"
     },
     "output_type": "display_data"
    },
    {
     "data": {
      "image/png": "[encoded data removed]",
      "text/plain": [
       "<Figure size 432x288 with 1 Axes>"
      ]
     },
     "metadata": {
      "needs_background": "light"
     },
     "output_type": "display_data"
    },
    {
     "data": {
      "image/png": "[encoded data removed]",
      "text/plain": [
       "<Figure size 432x288 with 1 Axes>"
      ]
     },
     "metadata": {
      "needs_background": "light"
     },
     "output_type": "display_data"
    },
    {
     "data": {
      "image/png": "[encoded data removed]",
      "text/plain": [
       "<Figure size 432x288 with 1 Axes>"
      ]
     },
     "metadata": {
      "needs_background": "light"
     },
     "output_type": "display_data"
    },
    {
     "data": {
      "image/png": "[encoded data removed]",
      "text/plain": [
       "<Figure size 432x288 with 1 Axes>"
      ]
     },
     "metadata": {
      "needs_background": "light"
     },
     "output_type": "display_data"
    },
    {
     "data": {
      "image/png": "[encoded data removed]",
      "text/plain": [
       "<Figure size 432x288 with 1 Axes>"
      ]
     },
     "metadata": {
      "needs_background": "light"
     },
     "output_type": "display_data"
    },
    {
     "data": {
      "image/png": "[encoded data removed]",
      "text/plain": [
       "<Figure size 432x288 with 1 Axes>"
      ]
     },
     "metadata": {
      "needs_background": "light"
     },
     "output_type": "display_data"
    },
    {
     "data": {
      "image/png": "[encoded data removed]",
      "text/plain": [
       "<Figure size 432x288 with 1 Axes>"
      ]
     },
     "metadata": {
      "needs_background": "light"
     },
     "output_type": "display_data"
    },
    {
     "data": {
      "image/png": "[encoded data removed]",
      "text/plain": [
       "<Figure size 432x288 with 1 Axes>"
      ]
     },
     "metadata": {
      "needs_background": "light"
     },
     "output_type": "display_data"
    },
    {
     "data": {
      "image/png": "[encoded data removed]",
      "text/plain": [
       "<Figure size 432x288 with 1 Axes>"
      ]
     },
     "metadata": {
      "needs_background": "light"
     },
     "output_type": "display_data"
    },
    {
     "data": {
      "image/png": "[encoded data removed]",
      "text/plain": [
       "<Figure size 432x288 with 1 Axes>"
      ]
     },
     "metadata": {
      "needs_background": "light"
     },
     "output_type": "display_data"
    }
   ],
   "source": [
    "# Detailed Histogram Plot\n",
    "for column in df.columns:\n",
    "    #sns.histplot(data=df, x=column, hue=\"Diabetes_012\")\n",
    "    sns.histplot(data=df, x=column, hue=\"Diabetes_binary\")\n",
    "    plt.show()"
   ]
  },
  {
   "cell_type": "code",
   "execution_count": 6,
   "metadata": {},
   "outputs": [
    {
     "data": {
      "text/html": [
       "<div>\n",
       "<style scoped>\n",
       "    .dataframe tbody tr th:only-of-type {\n",
       "        vertical-align: middle;\n",
       "    }\n",
       "\n",
       "    .dataframe tbody tr th {\n",
       "        vertical-align: top;\n",
       "    }\n",
       "\n",
       "    .dataframe thead th {\n",
       "        text-align: right;\n",
       "    }\n",
       "</style>\n",
       "<table border=\"1\" class=\"dataframe\">\n",
       "  <thead>\n",
       "    <tr style=\"text-align: right;\">\n",
       "      <th></th>\n",
       "      <th>Diabetes_binary</th>\n",
       "      <th>HighBP</th>\n",
       "      <th>HighChol</th>\n",
       "      <th>BMI</th>\n",
       "      <th>Smoker</th>\n",
       "      <th>PhysActivity</th>\n",
       "      <th>Fruits</th>\n",
       "      <th>Veggies</th>\n",
       "      <th>GenHlth</th>\n",
       "      <th>MentHlth</th>\n",
       "      <th>PhysHlth</th>\n",
       "      <th>DiffWalk</th>\n",
       "      <th>Sex</th>\n",
       "      <th>Age</th>\n",
       "      <th>Education</th>\n",
       "      <th>Income</th>\n",
       "    </tr>\n",
       "  </thead>\n",
       "  <tbody>\n",
       "    <tr>\n",
       "      <th>0</th>\n",
       "      <td>0.0</td>\n",
       "      <td>1.0</td>\n",
       "      <td>0.0</td>\n",
       "      <td>26.0</td>\n",
       "      <td>0.0</td>\n",
       "      <td>1.0</td>\n",
       "      <td>0.0</td>\n",
       "      <td>1.0</td>\n",
       "      <td>3.0</td>\n",
       "      <td>5.0</td>\n",
       "      <td>30.0</td>\n",
       "      <td>0.0</td>\n",
       "      <td>1.0</td>\n",
       "      <td>4.0</td>\n",
       "      <td>6.0</td>\n",
       "      <td>8.0</td>\n",
       "    </tr>\n",
       "    <tr>\n",
       "      <th>1</th>\n",
       "      <td>0.0</td>\n",
       "      <td>1.0</td>\n",
       "      <td>1.0</td>\n",
       "      <td>26.0</td>\n",
       "      <td>1.0</td>\n",
       "      <td>0.0</td>\n",
       "      <td>1.0</td>\n",
       "      <td>0.0</td>\n",
       "      <td>3.0</td>\n",
       "      <td>0.0</td>\n",
       "      <td>0.0</td>\n",
       "      <td>0.0</td>\n",
       "      <td>1.0</td>\n",
       "      <td>12.0</td>\n",
       "      <td>6.0</td>\n",
       "      <td>8.0</td>\n",
       "    </tr>\n",
       "    <tr>\n",
       "      <th>2</th>\n",
       "      <td>0.0</td>\n",
       "      <td>0.0</td>\n",
       "      <td>0.0</td>\n",
       "      <td>26.0</td>\n",
       "      <td>0.0</td>\n",
       "      <td>1.0</td>\n",
       "      <td>1.0</td>\n",
       "      <td>1.0</td>\n",
       "      <td>1.0</td>\n",
       "      <td>0.0</td>\n",
       "      <td>10.0</td>\n",
       "      <td>0.0</td>\n",
       "      <td>1.0</td>\n",
       "      <td>13.0</td>\n",
       "      <td>6.0</td>\n",
       "      <td>8.0</td>\n",
       "    </tr>\n",
       "    <tr>\n",
       "      <th>3</th>\n",
       "      <td>0.0</td>\n",
       "      <td>1.0</td>\n",
       "      <td>1.0</td>\n",
       "      <td>28.0</td>\n",
       "      <td>1.0</td>\n",
       "      <td>1.0</td>\n",
       "      <td>1.0</td>\n",
       "      <td>1.0</td>\n",
       "      <td>3.0</td>\n",
       "      <td>0.0</td>\n",
       "      <td>3.0</td>\n",
       "      <td>0.0</td>\n",
       "      <td>1.0</td>\n",
       "      <td>11.0</td>\n",
       "      <td>6.0</td>\n",
       "      <td>8.0</td>\n",
       "    </tr>\n",
       "    <tr>\n",
       "      <th>4</th>\n",
       "      <td>0.0</td>\n",
       "      <td>0.0</td>\n",
       "      <td>0.0</td>\n",
       "      <td>29.0</td>\n",
       "      <td>1.0</td>\n",
       "      <td>1.0</td>\n",
       "      <td>1.0</td>\n",
       "      <td>1.0</td>\n",
       "      <td>2.0</td>\n",
       "      <td>0.0</td>\n",
       "      <td>0.0</td>\n",
       "      <td>0.0</td>\n",
       "      <td>0.0</td>\n",
       "      <td>8.0</td>\n",
       "      <td>5.0</td>\n",
       "      <td>8.0</td>\n",
       "    </tr>\n",
       "    <tr>\n",
       "      <th>...</th>\n",
       "      <td>...</td>\n",
       "      <td>...</td>\n",
       "      <td>...</td>\n",
       "      <td>...</td>\n",
       "      <td>...</td>\n",
       "      <td>...</td>\n",
       "      <td>...</td>\n",
       "      <td>...</td>\n",
       "      <td>...</td>\n",
       "      <td>...</td>\n",
       "      <td>...</td>\n",
       "      <td>...</td>\n",
       "      <td>...</td>\n",
       "      <td>...</td>\n",
       "      <td>...</td>\n",
       "      <td>...</td>\n",
       "    </tr>\n",
       "    <tr>\n",
       "      <th>70687</th>\n",
       "      <td>1.0</td>\n",
       "      <td>0.0</td>\n",
       "      <td>1.0</td>\n",
       "      <td>37.0</td>\n",
       "      <td>0.0</td>\n",
       "      <td>0.0</td>\n",
       "      <td>0.0</td>\n",
       "      <td>1.0</td>\n",
       "      <td>4.0</td>\n",
       "      <td>0.0</td>\n",
       "      <td>0.0</td>\n",
       "      <td>0.0</td>\n",
       "      <td>0.0</td>\n",
       "      <td>6.0</td>\n",
       "      <td>4.0</td>\n",
       "      <td>1.0</td>\n",
       "    </tr>\n",
       "    <tr>\n",
       "      <th>70688</th>\n",
       "      <td>1.0</td>\n",
       "      <td>0.0</td>\n",
       "      <td>1.0</td>\n",
       "      <td>29.0</td>\n",
       "      <td>1.0</td>\n",
       "      <td>0.0</td>\n",
       "      <td>1.0</td>\n",
       "      <td>1.0</td>\n",
       "      <td>2.0</td>\n",
       "      <td>0.0</td>\n",
       "      <td>0.0</td>\n",
       "      <td>1.0</td>\n",
       "      <td>1.0</td>\n",
       "      <td>10.0</td>\n",
       "      <td>3.0</td>\n",
       "      <td>6.0</td>\n",
       "    </tr>\n",
       "    <tr>\n",
       "      <th>70689</th>\n",
       "      <td>1.0</td>\n",
       "      <td>1.0</td>\n",
       "      <td>1.0</td>\n",
       "      <td>25.0</td>\n",
       "      <td>0.0</td>\n",
       "      <td>0.0</td>\n",
       "      <td>1.0</td>\n",
       "      <td>0.0</td>\n",
       "      <td>5.0</td>\n",
       "      <td>15.0</td>\n",
       "      <td>0.0</td>\n",
       "      <td>1.0</td>\n",
       "      <td>0.0</td>\n",
       "      <td>13.0</td>\n",
       "      <td>6.0</td>\n",
       "      <td>4.0</td>\n",
       "    </tr>\n",
       "    <tr>\n",
       "      <th>70690</th>\n",
       "      <td>1.0</td>\n",
       "      <td>1.0</td>\n",
       "      <td>1.0</td>\n",
       "      <td>18.0</td>\n",
       "      <td>0.0</td>\n",
       "      <td>0.0</td>\n",
       "      <td>0.0</td>\n",
       "      <td>0.0</td>\n",
       "      <td>4.0</td>\n",
       "      <td>0.0</td>\n",
       "      <td>0.0</td>\n",
       "      <td>1.0</td>\n",
       "      <td>0.0</td>\n",
       "      <td>11.0</td>\n",
       "      <td>2.0</td>\n",
       "      <td>4.0</td>\n",
       "    </tr>\n",
       "    <tr>\n",
       "      <th>70691</th>\n",
       "      <td>1.0</td>\n",
       "      <td>1.0</td>\n",
       "      <td>1.0</td>\n",
       "      <td>25.0</td>\n",
       "      <td>0.0</td>\n",
       "      <td>1.0</td>\n",
       "      <td>1.0</td>\n",
       "      <td>0.0</td>\n",
       "      <td>2.0</td>\n",
       "      <td>0.0</td>\n",
       "      <td>0.0</td>\n",
       "      <td>0.0</td>\n",
       "      <td>0.0</td>\n",
       "      <td>9.0</td>\n",
       "      <td>6.0</td>\n",
       "      <td>2.0</td>\n",
       "    </tr>\n",
       "  </tbody>\n",
       "</table>\n",
       "<p>70692 rows × 16 columns</p>\n",
       "</div>"
      ],
      "text/plain": [
       "       Diabetes_binary  HighBP  HighChol   BMI  Smoker  PhysActivity  Fruits  \\\n",
       "0                  0.0     1.0       0.0  26.0     0.0           1.0     0.0   \n",
       "1                  0.0     1.0       1.0  26.0     1.0           0.0     1.0   \n",
       "2                  0.0     0.0       0.0  26.0     0.0           1.0     1.0   \n",
       "3                  0.0     1.0       1.0  28.0     1.0           1.0     1.0   \n",
       "4                  0.0     0.0       0.0  29.0     1.0           1.0     1.0   \n",
       "...                ...     ...       ...   ...     ...           ...     ...   \n",
       "70687              1.0     0.0       1.0  37.0     0.0           0.0     0.0   \n",
       "70688              1.0     0.0       1.0  29.0     1.0           0.0     1.0   \n",
       "70689              1.0     1.0       1.0  25.0     0.0           0.0     1.0   \n",
       "70690              1.0     1.0       1.0  18.0     0.0           0.0     0.0   \n",
       "70691              1.0     1.0       1.0  25.0     0.0           1.0     1.0   \n",
       "\n",
       "       Veggies  GenHlth  MentHlth  PhysHlth  DiffWalk  Sex   Age  Education  \\\n",
       "0          1.0      3.0       5.0      30.0       0.0  1.0   4.0        6.0   \n",
       "1          0.0      3.0       0.0       0.0       0.0  1.0  12.0        6.0   \n",
       "2          1.0      1.0       0.0      10.0       0.0  1.0  13.0        6.0   \n",
       "3          1.0      3.0       0.0       3.0       0.0  1.0  11.0        6.0   \n",
       "4          1.0      2.0       0.0       0.0       0.0  0.0   8.0        5.0   \n",
       "...        ...      ...       ...       ...       ...  ...   ...        ...   \n",
       "70687      1.0      4.0       0.0       0.0       0.0  0.0   6.0        4.0   \n",
       "70688      1.0      2.0       0.0       0.0       1.0  1.0  10.0        3.0   \n",
       "70689      0.0      5.0      15.0       0.0       1.0  0.0  13.0        6.0   \n",
       "70690      0.0      4.0       0.0       0.0       1.0  0.0  11.0        2.0   \n",
       "70691      0.0      2.0       0.0       0.0       0.0  0.0   9.0        6.0   \n",
       "\n",
       "       Income  \n",
       "0         8.0  \n",
       "1         8.0  \n",
       "2         8.0  \n",
       "3         8.0  \n",
       "4         8.0  \n",
       "...       ...  \n",
       "70687     1.0  \n",
       "70688     6.0  \n",
       "70689     4.0  \n",
       "70690     4.0  \n",
       "70691     2.0  \n",
       "\n",
       "[70692 rows x 16 columns]"
      ]
     },
     "metadata": {},
     "output_type": "display_data"
    }
   ],
   "source": [
    "# Drop Column based on Spread Distribution\n",
    "df = df.drop(columns=[\"CholCheck\",\n",
    "                      \"Stroke\",\n",
    "                      \"HeartDiseaseorAttack\",\n",
    "                      \"HvyAlcoholConsump\",\n",
    "                      \"AnyHealthcare\",\n",
    "                      \"NoDocbcCost\"])\n",
    "display(df)"
   ]
  },
  {
   "cell_type": "code",
   "execution_count": 7,
   "metadata": {},
   "outputs": [],
   "source": [
    "# Switch Binary Position\n",
    "binary_column_selected = [\"PhysActivity\", \"Fruits\", \"Veggies\"]\n",
    "for col in binary_column_selected:\n",
    "    for i in range(len(df)):\n",
    "        if df[col][i] == 0:\n",
    "            df[col][i] = 1\n",
    "        else:\n",
    "            df[col][i] = 0"
   ]
  },
  {
   "cell_type": "code",
   "execution_count": 8,
   "metadata": {},
   "outputs": [
    {
     "name": "stdout",
     "output_type": "stream",
     "text": [
      "========== Diabetes_binary ==========\n"
     ]
    },
    {
     "data": {
      "text/plain": [
       "0.0    35346\n",
       "1.0    35346\n",
       "Name: Diabetes_binary, dtype: int64"
      ]
     },
     "metadata": {},
     "output_type": "display_data"
    },
    {
     "name": "stdout",
     "output_type": "stream",
     "text": [
      "\n",
      "========== HighBP ==========\n"
     ]
    },
    {
     "data": {
      "text/plain": [
       "1.0    39832\n",
       "0.0    30860\n",
       "Name: HighBP, dtype: int64"
      ]
     },
     "metadata": {},
     "output_type": "display_data"
    },
    {
     "name": "stdout",
     "output_type": "stream",
     "text": [
      "\n",
      "========== HighChol ==========\n"
     ]
    },
    {
     "data": {
      "text/plain": [
       "1.0    37163\n",
       "0.0    33529\n",
       "Name: HighChol, dtype: int64"
      ]
     },
     "metadata": {},
     "output_type": "display_data"
    },
    {
     "name": "stdout",
     "output_type": "stream",
     "text": [
      "\n",
      "========== BMI ==========\n"
     ]
    },
    {
     "data": {
      "text/plain": [
       "27.0    6327\n",
       "26.0    4975\n",
       "28.0    4583\n",
       "24.0    4392\n",
       "30.0    4344\n",
       "        ... \n",
       "85.0       1\n",
       "83.0       1\n",
       "80.0       1\n",
       "78.0       1\n",
       "74.0       1\n",
       "Name: BMI, Length: 80, dtype: int64"
      ]
     },
     "metadata": {},
     "output_type": "display_data"
    },
    {
     "name": "stdout",
     "output_type": "stream",
     "text": [
      "\n",
      "========== Smoker ==========\n"
     ]
    },
    {
     "data": {
      "text/plain": [
       "0.0    37094\n",
       "1.0    33598\n",
       "Name: Smoker, dtype: int64"
      ]
     },
     "metadata": {},
     "output_type": "display_data"
    },
    {
     "name": "stdout",
     "output_type": "stream",
     "text": [
      "\n",
      "========== PhysActivity ==========\n"
     ]
    },
    {
     "data": {
      "text/plain": [
       "0.0    49699\n",
       "1.0    20993\n",
       "Name: PhysActivity, dtype: int64"
      ]
     },
     "metadata": {},
     "output_type": "display_data"
    },
    {
     "name": "stdout",
     "output_type": "stream",
     "text": [
      "\n",
      "========== Fruits ==========\n"
     ]
    },
    {
     "data": {
      "text/plain": [
       "0.0    43249\n",
       "1.0    27443\n",
       "Name: Fruits, dtype: int64"
      ]
     },
     "metadata": {},
     "output_type": "display_data"
    },
    {
     "name": "stdout",
     "output_type": "stream",
     "text": [
      "\n",
      "========== Veggies ==========\n"
     ]
    },
    {
     "data": {
      "text/plain": [
       "0.0    55760\n",
       "1.0    14932\n",
       "Name: Veggies, dtype: int64"
      ]
     },
     "metadata": {},
     "output_type": "display_data"
    },
    {
     "name": "stdout",
     "output_type": "stream",
     "text": [
      "\n",
      "========== GenHlth ==========\n"
     ]
    },
    {
     "data": {
      "text/plain": [
       "3.0    23427\n",
       "2.0    19872\n",
       "4.0    13303\n",
       "1.0     8282\n",
       "5.0     5808\n",
       "Name: GenHlth, dtype: int64"
      ]
     },
     "metadata": {},
     "output_type": "display_data"
    },
    {
     "name": "stdout",
     "output_type": "stream",
     "text": [
      "\n",
      "========== MentHlth ==========\n"
     ]
    },
    {
     "data": {
      "text/plain": [
       "0.0     48091\n",
       "30.0     4320\n",
       "2.0      3267\n",
       "5.0      2519\n",
       "1.0      2051\n",
       "3.0      1967\n",
       "10.0     1924\n",
       "15.0     1767\n",
       "20.0     1125\n",
       "4.0       981\n",
       "7.0       825\n",
       "25.0      425\n",
       "14.0      353\n",
       "6.0       288\n",
       "8.0       198\n",
       "12.0      130\n",
       "28.0       99\n",
       "21.0       84\n",
       "29.0       53\n",
       "18.0       42\n",
       "16.0       28\n",
       "9.0        28\n",
       "22.0       22\n",
       "17.0       18\n",
       "26.0       17\n",
       "27.0       17\n",
       "13.0       15\n",
       "23.0       13\n",
       "24.0       10\n",
       "11.0        8\n",
       "19.0        7\n",
       "Name: MentHlth, dtype: int64"
      ]
     },
     "metadata": {},
     "output_type": "display_data"
    },
    {
     "name": "stdout",
     "output_type": "stream",
     "text": [
      "\n",
      "========== PhysHlth ==========\n"
     ]
    },
    {
     "data": {
      "text/plain": [
       "0.0     39915\n",
       "30.0     7953\n",
       "2.0      4102\n",
       "1.0      2853\n",
       "3.0      2438\n",
       "5.0      2332\n",
       "10.0     1980\n",
       "15.0     1913\n",
       "4.0      1376\n",
       "7.0      1326\n",
       "20.0     1292\n",
       "14.0      802\n",
       "25.0      557\n",
       "6.0       447\n",
       "8.0       276\n",
       "21.0      229\n",
       "28.0      211\n",
       "12.0      205\n",
       "29.0       95\n",
       "9.0        55\n",
       "18.0       50\n",
       "16.0       50\n",
       "17.0       35\n",
       "27.0       34\n",
       "22.0       31\n",
       "23.0       27\n",
       "26.0       26\n",
       "13.0       26\n",
       "24.0       24\n",
       "11.0       22\n",
       "19.0       10\n",
       "Name: PhysHlth, dtype: int64"
      ]
     },
     "metadata": {},
     "output_type": "display_data"
    },
    {
     "name": "stdout",
     "output_type": "stream",
     "text": [
      "\n",
      "========== DiffWalk ==========\n"
     ]
    },
    {
     "data": {
      "text/plain": [
       "0.0    52826\n",
       "1.0    17866\n",
       "Name: DiffWalk, dtype: int64"
      ]
     },
     "metadata": {},
     "output_type": "display_data"
    },
    {
     "name": "stdout",
     "output_type": "stream",
     "text": [
      "\n",
      "========== Sex ==========\n"
     ]
    },
    {
     "data": {
      "text/plain": [
       "0.0    38386\n",
       "1.0    32306\n",
       "Name: Sex, dtype: int64"
      ]
     },
     "metadata": {},
     "output_type": "display_data"
    },
    {
     "name": "stdout",
     "output_type": "stream",
     "text": [
      "\n",
      "========== Age ==========\n"
     ]
    },
    {
     "data": {
      "text/plain": [
       "10.0    10856\n",
       "9.0     10112\n",
       "8.0      8603\n",
       "11.0     8044\n",
       "7.0      6872\n",
       "13.0     5426\n",
       "12.0     5394\n",
       "6.0      4648\n",
       "5.0      3520\n",
       "4.0      2793\n",
       "3.0      2049\n",
       "2.0      1396\n",
       "1.0       979\n",
       "Name: Age, dtype: int64"
      ]
     },
     "metadata": {},
     "output_type": "display_data"
    },
    {
     "name": "stdout",
     "output_type": "stream",
     "text": [
      "\n",
      "========== Education ==========\n"
     ]
    },
    {
     "data": {
      "text/plain": [
       "6.0    26020\n",
       "5.0    20030\n",
       "4.0    19473\n",
       "3.0     3447\n",
       "2.0     1647\n",
       "1.0       75\n",
       "Name: Education, dtype: int64"
      ]
     },
     "metadata": {},
     "output_type": "display_data"
    },
    {
     "name": "stdout",
     "output_type": "stream",
     "text": [
      "\n",
      "========== Income ==========\n"
     ]
    },
    {
     "data": {
      "text/plain": [
       "8.0    20646\n",
       "7.0    11425\n",
       "6.0    10287\n",
       "5.0     8010\n",
       "4.0     6658\n",
       "3.0     5557\n",
       "2.0     4498\n",
       "1.0     3611\n",
       "Name: Income, dtype: int64"
      ]
     },
     "metadata": {},
     "output_type": "display_data"
    },
    {
     "name": "stdout",
     "output_type": "stream",
     "text": [
      "\n"
     ]
    }
   ],
   "source": [
    "# Value Counts of Each Columns\n",
    "for column in df.columns:\n",
    "    print(f\"========== {column} ==========\")\n",
    "    display(df[column].value_counts())\n",
    "    print()"
   ]
  },
  {
   "cell_type": "code",
   "execution_count": 9,
   "metadata": {},
   "outputs": [
    {
     "name": "stdout",
     "output_type": "stream",
     "text": [
      "Uniqueness Percentage: 0.9689215187008431\n"
     ]
    },
    {
     "data": {
      "text/html": [
       "<div>\n",
       "<style scoped>\n",
       "    .dataframe tbody tr th:only-of-type {\n",
       "        vertical-align: middle;\n",
       "    }\n",
       "\n",
       "    .dataframe tbody tr th {\n",
       "        vertical-align: top;\n",
       "    }\n",
       "\n",
       "    .dataframe thead th {\n",
       "        text-align: right;\n",
       "    }\n",
       "</style>\n",
       "<table border=\"1\" class=\"dataframe\">\n",
       "  <thead>\n",
       "    <tr style=\"text-align: right;\">\n",
       "      <th></th>\n",
       "      <th>Diabetes_binary</th>\n",
       "      <th>HighBP</th>\n",
       "      <th>HighChol</th>\n",
       "      <th>BMI</th>\n",
       "      <th>Smoker</th>\n",
       "      <th>PhysActivity</th>\n",
       "      <th>Fruits</th>\n",
       "      <th>Veggies</th>\n",
       "      <th>GenHlth</th>\n",
       "      <th>MentHlth</th>\n",
       "      <th>PhysHlth</th>\n",
       "      <th>DiffWalk</th>\n",
       "      <th>Sex</th>\n",
       "      <th>Age</th>\n",
       "      <th>Education</th>\n",
       "      <th>Income</th>\n",
       "    </tr>\n",
       "  </thead>\n",
       "  <tbody>\n",
       "    <tr>\n",
       "      <th>0</th>\n",
       "      <td>0.0</td>\n",
       "      <td>1.0</td>\n",
       "      <td>0.0</td>\n",
       "      <td>26.0</td>\n",
       "      <td>0.0</td>\n",
       "      <td>0.0</td>\n",
       "      <td>1.0</td>\n",
       "      <td>0.0</td>\n",
       "      <td>3.0</td>\n",
       "      <td>5.0</td>\n",
       "      <td>30.0</td>\n",
       "      <td>0.0</td>\n",
       "      <td>1.0</td>\n",
       "      <td>4.0</td>\n",
       "      <td>6.0</td>\n",
       "      <td>8.0</td>\n",
       "    </tr>\n",
       "    <tr>\n",
       "      <th>1</th>\n",
       "      <td>0.0</td>\n",
       "      <td>1.0</td>\n",
       "      <td>1.0</td>\n",
       "      <td>26.0</td>\n",
       "      <td>1.0</td>\n",
       "      <td>1.0</td>\n",
       "      <td>0.0</td>\n",
       "      <td>1.0</td>\n",
       "      <td>3.0</td>\n",
       "      <td>0.0</td>\n",
       "      <td>0.0</td>\n",
       "      <td>0.0</td>\n",
       "      <td>1.0</td>\n",
       "      <td>12.0</td>\n",
       "      <td>6.0</td>\n",
       "      <td>8.0</td>\n",
       "    </tr>\n",
       "    <tr>\n",
       "      <th>2</th>\n",
       "      <td>0.0</td>\n",
       "      <td>0.0</td>\n",
       "      <td>0.0</td>\n",
       "      <td>26.0</td>\n",
       "      <td>0.0</td>\n",
       "      <td>0.0</td>\n",
       "      <td>0.0</td>\n",
       "      <td>0.0</td>\n",
       "      <td>1.0</td>\n",
       "      <td>0.0</td>\n",
       "      <td>10.0</td>\n",
       "      <td>0.0</td>\n",
       "      <td>1.0</td>\n",
       "      <td>13.0</td>\n",
       "      <td>6.0</td>\n",
       "      <td>8.0</td>\n",
       "    </tr>\n",
       "    <tr>\n",
       "      <th>3</th>\n",
       "      <td>0.0</td>\n",
       "      <td>1.0</td>\n",
       "      <td>1.0</td>\n",
       "      <td>28.0</td>\n",
       "      <td>1.0</td>\n",
       "      <td>0.0</td>\n",
       "      <td>0.0</td>\n",
       "      <td>0.0</td>\n",
       "      <td>3.0</td>\n",
       "      <td>0.0</td>\n",
       "      <td>3.0</td>\n",
       "      <td>0.0</td>\n",
       "      <td>1.0</td>\n",
       "      <td>11.0</td>\n",
       "      <td>6.0</td>\n",
       "      <td>8.0</td>\n",
       "    </tr>\n",
       "    <tr>\n",
       "      <th>4</th>\n",
       "      <td>0.0</td>\n",
       "      <td>0.0</td>\n",
       "      <td>0.0</td>\n",
       "      <td>29.0</td>\n",
       "      <td>1.0</td>\n",
       "      <td>0.0</td>\n",
       "      <td>0.0</td>\n",
       "      <td>0.0</td>\n",
       "      <td>2.0</td>\n",
       "      <td>0.0</td>\n",
       "      <td>0.0</td>\n",
       "      <td>0.0</td>\n",
       "      <td>0.0</td>\n",
       "      <td>8.0</td>\n",
       "      <td>5.0</td>\n",
       "      <td>8.0</td>\n",
       "    </tr>\n",
       "    <tr>\n",
       "      <th>...</th>\n",
       "      <td>...</td>\n",
       "      <td>...</td>\n",
       "      <td>...</td>\n",
       "      <td>...</td>\n",
       "      <td>...</td>\n",
       "      <td>...</td>\n",
       "      <td>...</td>\n",
       "      <td>...</td>\n",
       "      <td>...</td>\n",
       "      <td>...</td>\n",
       "      <td>...</td>\n",
       "      <td>...</td>\n",
       "      <td>...</td>\n",
       "      <td>...</td>\n",
       "      <td>...</td>\n",
       "      <td>...</td>\n",
       "    </tr>\n",
       "    <tr>\n",
       "      <th>70687</th>\n",
       "      <td>1.0</td>\n",
       "      <td>0.0</td>\n",
       "      <td>1.0</td>\n",
       "      <td>37.0</td>\n",
       "      <td>0.0</td>\n",
       "      <td>1.0</td>\n",
       "      <td>1.0</td>\n",
       "      <td>0.0</td>\n",
       "      <td>4.0</td>\n",
       "      <td>0.0</td>\n",
       "      <td>0.0</td>\n",
       "      <td>0.0</td>\n",
       "      <td>0.0</td>\n",
       "      <td>6.0</td>\n",
       "      <td>4.0</td>\n",
       "      <td>1.0</td>\n",
       "    </tr>\n",
       "    <tr>\n",
       "      <th>70688</th>\n",
       "      <td>1.0</td>\n",
       "      <td>0.0</td>\n",
       "      <td>1.0</td>\n",
       "      <td>29.0</td>\n",
       "      <td>1.0</td>\n",
       "      <td>1.0</td>\n",
       "      <td>0.0</td>\n",
       "      <td>0.0</td>\n",
       "      <td>2.0</td>\n",
       "      <td>0.0</td>\n",
       "      <td>0.0</td>\n",
       "      <td>1.0</td>\n",
       "      <td>1.0</td>\n",
       "      <td>10.0</td>\n",
       "      <td>3.0</td>\n",
       "      <td>6.0</td>\n",
       "    </tr>\n",
       "    <tr>\n",
       "      <th>70689</th>\n",
       "      <td>1.0</td>\n",
       "      <td>1.0</td>\n",
       "      <td>1.0</td>\n",
       "      <td>25.0</td>\n",
       "      <td>0.0</td>\n",
       "      <td>1.0</td>\n",
       "      <td>0.0</td>\n",
       "      <td>1.0</td>\n",
       "      <td>5.0</td>\n",
       "      <td>15.0</td>\n",
       "      <td>0.0</td>\n",
       "      <td>1.0</td>\n",
       "      <td>0.0</td>\n",
       "      <td>13.0</td>\n",
       "      <td>6.0</td>\n",
       "      <td>4.0</td>\n",
       "    </tr>\n",
       "    <tr>\n",
       "      <th>70690</th>\n",
       "      <td>1.0</td>\n",
       "      <td>1.0</td>\n",
       "      <td>1.0</td>\n",
       "      <td>18.0</td>\n",
       "      <td>0.0</td>\n",
       "      <td>1.0</td>\n",
       "      <td>1.0</td>\n",
       "      <td>1.0</td>\n",
       "      <td>4.0</td>\n",
       "      <td>0.0</td>\n",
       "      <td>0.0</td>\n",
       "      <td>1.0</td>\n",
       "      <td>0.0</td>\n",
       "      <td>11.0</td>\n",
       "      <td>2.0</td>\n",
       "      <td>4.0</td>\n",
       "    </tr>\n",
       "    <tr>\n",
       "      <th>70691</th>\n",
       "      <td>1.0</td>\n",
       "      <td>1.0</td>\n",
       "      <td>1.0</td>\n",
       "      <td>25.0</td>\n",
       "      <td>0.0</td>\n",
       "      <td>0.0</td>\n",
       "      <td>0.0</td>\n",
       "      <td>1.0</td>\n",
       "      <td>2.0</td>\n",
       "      <td>0.0</td>\n",
       "      <td>0.0</td>\n",
       "      <td>0.0</td>\n",
       "      <td>0.0</td>\n",
       "      <td>9.0</td>\n",
       "      <td>6.0</td>\n",
       "      <td>2.0</td>\n",
       "    </tr>\n",
       "  </tbody>\n",
       "</table>\n",
       "<p>68495 rows × 16 columns</p>\n",
       "</div>"
      ],
      "text/plain": [
       "       Diabetes_binary  HighBP  HighChol   BMI  Smoker  PhysActivity  Fruits  \\\n",
       "0                  0.0     1.0       0.0  26.0     0.0           0.0     1.0   \n",
       "1                  0.0     1.0       1.0  26.0     1.0           1.0     0.0   \n",
       "2                  0.0     0.0       0.0  26.0     0.0           0.0     0.0   \n",
       "3                  0.0     1.0       1.0  28.0     1.0           0.0     0.0   \n",
       "4                  0.0     0.0       0.0  29.0     1.0           0.0     0.0   \n",
       "...                ...     ...       ...   ...     ...           ...     ...   \n",
       "70687              1.0     0.0       1.0  37.0     0.0           1.0     1.0   \n",
       "70688              1.0     0.0       1.0  29.0     1.0           1.0     0.0   \n",
       "70689              1.0     1.0       1.0  25.0     0.0           1.0     0.0   \n",
       "70690              1.0     1.0       1.0  18.0     0.0           1.0     1.0   \n",
       "70691              1.0     1.0       1.0  25.0     0.0           0.0     0.0   \n",
       "\n",
       "       Veggies  GenHlth  MentHlth  PhysHlth  DiffWalk  Sex   Age  Education  \\\n",
       "0          0.0      3.0       5.0      30.0       0.0  1.0   4.0        6.0   \n",
       "1          1.0      3.0       0.0       0.0       0.0  1.0  12.0        6.0   \n",
       "2          0.0      1.0       0.0      10.0       0.0  1.0  13.0        6.0   \n",
       "3          0.0      3.0       0.0       3.0       0.0  1.0  11.0        6.0   \n",
       "4          0.0      2.0       0.0       0.0       0.0  0.0   8.0        5.0   \n",
       "...        ...      ...       ...       ...       ...  ...   ...        ...   \n",
       "70687      0.0      4.0       0.0       0.0       0.0  0.0   6.0        4.0   \n",
       "70688      0.0      2.0       0.0       0.0       1.0  1.0  10.0        3.0   \n",
       "70689      1.0      5.0      15.0       0.0       1.0  0.0  13.0        6.0   \n",
       "70690      1.0      4.0       0.0       0.0       1.0  0.0  11.0        2.0   \n",
       "70691      1.0      2.0       0.0       0.0       0.0  0.0   9.0        6.0   \n",
       "\n",
       "       Income  \n",
       "0         8.0  \n",
       "1         8.0  \n",
       "2         8.0  \n",
       "3         8.0  \n",
       "4         8.0  \n",
       "...       ...  \n",
       "70687     1.0  \n",
       "70688     6.0  \n",
       "70689     4.0  \n",
       "70690     4.0  \n",
       "70691     2.0  \n",
       "\n",
       "[68495 rows x 16 columns]"
      ]
     },
     "metadata": {},
     "output_type": "display_data"
    }
   ],
   "source": [
    "# 1st Duplicates Checking\n",
    "print(\"Uniqueness Percentage:\", len(df.drop_duplicates()) / len(df))\n",
    "if len(df.drop_duplicates()) / len(df) != 1:\n",
    "    df = df.drop_duplicates()\n",
    "display(df)"
   ]
  },
  {
   "cell_type": "code",
   "execution_count": 10,
   "metadata": {},
   "outputs": [
    {
     "name": "stdout",
     "output_type": "stream",
     "text": [
      "<class 'pandas.core.frame.DataFrame'>\n",
      "Int64Index: 68495 entries, 0 to 70691\n",
      "Data columns (total 16 columns):\n",
      " #   Column           Non-Null Count  Dtype  \n",
      "---  ------           --------------  -----  \n",
      " 0   Diabetes_binary  68495 non-null  float64\n",
      " 1   HighBP           68495 non-null  float64\n",
      " 2   HighChol         68495 non-null  float64\n",
      " 3   BMI              68495 non-null  float64\n",
      " 4   Smoker           68495 non-null  float64\n",
      " 5   PhysActivity     68495 non-null  float64\n",
      " 6   Fruits           68495 non-null  float64\n",
      " 7   Veggies          68495 non-null  float64\n",
      " 8   GenHlth          68495 non-null  float64\n",
      " 9   MentHlth         68495 non-null  float64\n",
      " 10  PhysHlth         68495 non-null  float64\n",
      " 11  DiffWalk         68495 non-null  float64\n",
      " 12  Sex              68495 non-null  float64\n",
      " 13  Age              68495 non-null  float64\n",
      " 14  Education        68495 non-null  float64\n",
      " 15  Income           68495 non-null  float64\n",
      "dtypes: float64(16)\n",
      "memory usage: 8.9 MB\n"
     ]
    }
   ],
   "source": [
    "# Final Data Information\n",
    "df.info()"
   ]
  },
  {
   "cell_type": "markdown",
   "metadata": {
    "tags": []
   },
   "source": [
    "#### **Explanatory Data Analysis**"
   ]
  },
  {
   "cell_type": "code",
   "execution_count": 11,
   "metadata": {},
   "outputs": [
    {
     "data": {
      "text/html": [
       "<div>\n",
       "<style scoped>\n",
       "    .dataframe tbody tr th:only-of-type {\n",
       "        vertical-align: middle;\n",
       "    }\n",
       "\n",
       "    .dataframe tbody tr th {\n",
       "        vertical-align: top;\n",
       "    }\n",
       "\n",
       "    .dataframe thead th {\n",
       "        text-align: right;\n",
       "    }\n",
       "</style>\n",
       "<table border=\"1\" class=\"dataframe\">\n",
       "  <thead>\n",
       "    <tr style=\"text-align: right;\">\n",
       "      <th></th>\n",
       "      <th>Diabetes_binary</th>\n",
       "      <th>HighBP</th>\n",
       "      <th>HighChol</th>\n",
       "      <th>BMI</th>\n",
       "      <th>Smoker</th>\n",
       "      <th>PhysActivity</th>\n",
       "      <th>Fruits</th>\n",
       "      <th>Veggies</th>\n",
       "      <th>GenHlth</th>\n",
       "      <th>MentHlth</th>\n",
       "      <th>PhysHlth</th>\n",
       "      <th>DiffWalk</th>\n",
       "      <th>Sex</th>\n",
       "      <th>Age</th>\n",
       "      <th>Education</th>\n",
       "      <th>Income</th>\n",
       "    </tr>\n",
       "  </thead>\n",
       "  <tbody>\n",
       "    <tr>\n",
       "      <th>Diabetes_binary</th>\n",
       "      <td>1.00000</td>\n",
       "      <td>0.36912</td>\n",
       "      <td>0.27898</td>\n",
       "      <td>0.28364</td>\n",
       "      <td>0.07337</td>\n",
       "      <td>0.14834</td>\n",
       "      <td>0.04277</td>\n",
       "      <td>0.07054</td>\n",
       "      <td>0.39400</td>\n",
       "      <td>0.07926</td>\n",
       "      <td>0.20556</td>\n",
       "      <td>0.26617</td>\n",
       "      <td>0.04139</td>\n",
       "      <td>0.27300</td>\n",
       "      <td>-0.15591</td>\n",
       "      <td>-0.21058</td>\n",
       "    </tr>\n",
       "    <tr>\n",
       "      <th>HighBP</th>\n",
       "      <td>0.36912</td>\n",
       "      <td>1.00000</td>\n",
       "      <td>0.30612</td>\n",
       "      <td>0.23041</td>\n",
       "      <td>0.07581</td>\n",
       "      <td>0.12681</td>\n",
       "      <td>0.03065</td>\n",
       "      <td>0.05854</td>\n",
       "      <td>0.30551</td>\n",
       "      <td>0.05688</td>\n",
       "      <td>0.16669</td>\n",
       "      <td>0.22881</td>\n",
       "      <td>0.03690</td>\n",
       "      <td>0.33214</td>\n",
       "      <td>-0.12766</td>\n",
       "      <td>-0.17408</td>\n",
       "    </tr>\n",
       "    <tr>\n",
       "      <th>HighChol</th>\n",
       "      <td>0.27898</td>\n",
       "      <td>0.30612</td>\n",
       "      <td>1.00000</td>\n",
       "      <td>0.12220</td>\n",
       "      <td>0.08484</td>\n",
       "      <td>0.08350</td>\n",
       "      <td>0.03993</td>\n",
       "      <td>0.03698</td>\n",
       "      <td>0.22540</td>\n",
       "      <td>0.07934</td>\n",
       "      <td>0.13761</td>\n",
       "      <td>0.15738</td>\n",
       "      <td>0.01136</td>\n",
       "      <td>0.23357</td>\n",
       "      <td>-0.07383</td>\n",
       "      <td>-0.09715</td>\n",
       "    </tr>\n",
       "    <tr>\n",
       "      <th>BMI</th>\n",
       "      <td>0.28364</td>\n",
       "      <td>0.23041</td>\n",
       "      <td>0.12220</td>\n",
       "      <td>1.00000</td>\n",
       "      <td>0.00075</td>\n",
       "      <td>0.16195</td>\n",
       "      <td>0.07509</td>\n",
       "      <td>0.04841</td>\n",
       "      <td>0.25354</td>\n",
       "      <td>0.09763</td>\n",
       "      <td>0.15373</td>\n",
       "      <td>0.23900</td>\n",
       "      <td>-0.00347</td>\n",
       "      <td>-0.04683</td>\n",
       "      <td>-0.08616</td>\n",
       "      <td>-0.11072</td>\n",
       "    </tr>\n",
       "    <tr>\n",
       "      <th>Smoker</th>\n",
       "      <td>0.07337</td>\n",
       "      <td>0.07581</td>\n",
       "      <td>0.08484</td>\n",
       "      <td>0.00075</td>\n",
       "      <td>1.00000</td>\n",
       "      <td>0.07113</td>\n",
       "      <td>0.06681</td>\n",
       "      <td>0.02279</td>\n",
       "      <td>0.13836</td>\n",
       "      <td>0.08563</td>\n",
       "      <td>0.11390</td>\n",
       "      <td>0.11286</td>\n",
       "      <td>0.11385</td>\n",
       "      <td>0.09844</td>\n",
       "      <td>-0.12901</td>\n",
       "      <td>-0.09217</td>\n",
       "    </tr>\n",
       "    <tr>\n",
       "      <th>PhysActivity</th>\n",
       "      <td>0.14834</td>\n",
       "      <td>0.12681</td>\n",
       "      <td>0.08350</td>\n",
       "      <td>0.16195</td>\n",
       "      <td>0.07113</td>\n",
       "      <td>1.00000</td>\n",
       "      <td>0.12588</td>\n",
       "      <td>0.14146</td>\n",
       "      <td>0.26145</td>\n",
       "      <td>0.12250</td>\n",
       "      <td>0.22603</td>\n",
       "      <td>0.26892</td>\n",
       "      <td>-0.05142</td>\n",
       "      <td>0.09730</td>\n",
       "      <td>-0.17722</td>\n",
       "      <td>-0.18301</td>\n",
       "    </tr>\n",
       "    <tr>\n",
       "      <th>Fruits</th>\n",
       "      <td>0.04277</td>\n",
       "      <td>0.03065</td>\n",
       "      <td>0.03993</td>\n",
       "      <td>0.07509</td>\n",
       "      <td>0.06681</td>\n",
       "      <td>0.12588</td>\n",
       "      <td>1.00000</td>\n",
       "      <td>0.23348</td>\n",
       "      <td>0.08432</td>\n",
       "      <td>0.05579</td>\n",
       "      <td>0.04010</td>\n",
       "      <td>0.04231</td>\n",
       "      <td>0.08880</td>\n",
       "      <td>-0.06674</td>\n",
       "      <td>-0.08717</td>\n",
       "      <td>-0.06629</td>\n",
       "    </tr>\n",
       "    <tr>\n",
       "      <th>Veggies</th>\n",
       "      <td>0.07054</td>\n",
       "      <td>0.05854</td>\n",
       "      <td>0.03698</td>\n",
       "      <td>0.04841</td>\n",
       "      <td>0.02279</td>\n",
       "      <td>0.14146</td>\n",
       "      <td>0.23348</td>\n",
       "      <td>1.00000</td>\n",
       "      <td>0.10347</td>\n",
       "      <td>0.04590</td>\n",
       "      <td>0.05874</td>\n",
       "      <td>0.07606</td>\n",
       "      <td>0.05448</td>\n",
       "      <td>0.01530</td>\n",
       "      <td>-0.14244</td>\n",
       "      <td>-0.14385</td>\n",
       "    </tr>\n",
       "    <tr>\n",
       "      <th>GenHlth</th>\n",
       "      <td>0.39400</td>\n",
       "      <td>0.30551</td>\n",
       "      <td>0.22540</td>\n",
       "      <td>0.25354</td>\n",
       "      <td>0.13836</td>\n",
       "      <td>0.26145</td>\n",
       "      <td>0.08432</td>\n",
       "      <td>0.10347</td>\n",
       "      <td>1.00000</td>\n",
       "      <td>0.30869</td>\n",
       "      <td>0.54951</td>\n",
       "      <td>0.47114</td>\n",
       "      <td>-0.01715</td>\n",
       "      <td>0.14754</td>\n",
       "      <td>-0.26746</td>\n",
       "      <td>-0.36710</td>\n",
       "    </tr>\n",
       "    <tr>\n",
       "      <th>MentHlth</th>\n",
       "      <td>0.07926</td>\n",
       "      <td>0.05688</td>\n",
       "      <td>0.07934</td>\n",
       "      <td>0.09763</td>\n",
       "      <td>0.08563</td>\n",
       "      <td>0.12250</td>\n",
       "      <td>0.05579</td>\n",
       "      <td>0.04590</td>\n",
       "      <td>0.30869</td>\n",
       "      <td>1.00000</td>\n",
       "      <td>0.37529</td>\n",
       "      <td>0.24533</td>\n",
       "      <td>-0.08962</td>\n",
       "      <td>-0.10704</td>\n",
       "      <td>-0.09700</td>\n",
       "      <td>-0.21018</td>\n",
       "    </tr>\n",
       "    <tr>\n",
       "      <th>PhysHlth</th>\n",
       "      <td>0.20556</td>\n",
       "      <td>0.16669</td>\n",
       "      <td>0.13761</td>\n",
       "      <td>0.15373</td>\n",
       "      <td>0.11390</td>\n",
       "      <td>0.22603</td>\n",
       "      <td>0.04010</td>\n",
       "      <td>0.05874</td>\n",
       "      <td>0.54951</td>\n",
       "      <td>0.37529</td>\n",
       "      <td>1.00000</td>\n",
       "      <td>0.48267</td>\n",
       "      <td>-0.04529</td>\n",
       "      <td>0.08159</td>\n",
       "      <td>-0.14742</td>\n",
       "      <td>-0.26876</td>\n",
       "    </tr>\n",
       "    <tr>\n",
       "      <th>DiffWalk</th>\n",
       "      <td>0.26617</td>\n",
       "      <td>0.22881</td>\n",
       "      <td>0.15738</td>\n",
       "      <td>0.23900</td>\n",
       "      <td>0.11286</td>\n",
       "      <td>0.26892</td>\n",
       "      <td>0.04231</td>\n",
       "      <td>0.07606</td>\n",
       "      <td>0.47114</td>\n",
       "      <td>0.24533</td>\n",
       "      <td>0.48267</td>\n",
       "      <td>1.00000</td>\n",
       "      <td>-0.08231</td>\n",
       "      <td>0.19393</td>\n",
       "      <td>-0.19126</td>\n",
       "      <td>-0.33355</td>\n",
       "    </tr>\n",
       "    <tr>\n",
       "      <th>Sex</th>\n",
       "      <td>0.04139</td>\n",
       "      <td>0.03690</td>\n",
       "      <td>0.01136</td>\n",
       "      <td>-0.00347</td>\n",
       "      <td>0.11385</td>\n",
       "      <td>-0.05142</td>\n",
       "      <td>0.08880</td>\n",
       "      <td>0.05448</td>\n",
       "      <td>-0.01715</td>\n",
       "      <td>-0.08962</td>\n",
       "      <td>-0.04529</td>\n",
       "      <td>-0.08231</td>\n",
       "      <td>1.00000</td>\n",
       "      <td>-0.00580</td>\n",
       "      <td>0.04187</td>\n",
       "      <td>0.16093</td>\n",
       "    </tr>\n",
       "    <tr>\n",
       "      <th>Age</th>\n",
       "      <td>0.27300</td>\n",
       "      <td>0.33214</td>\n",
       "      <td>0.23357</td>\n",
       "      <td>-0.04683</td>\n",
       "      <td>0.09844</td>\n",
       "      <td>0.09730</td>\n",
       "      <td>-0.06674</td>\n",
       "      <td>0.01530</td>\n",
       "      <td>0.14754</td>\n",
       "      <td>-0.10704</td>\n",
       "      <td>0.08159</td>\n",
       "      <td>0.19393</td>\n",
       "      <td>-0.00580</td>\n",
       "      <td>1.00000</td>\n",
       "      <td>-0.10120</td>\n",
       "      <td>-0.12350</td>\n",
       "    </tr>\n",
       "    <tr>\n",
       "      <th>Education</th>\n",
       "      <td>-0.15591</td>\n",
       "      <td>-0.12766</td>\n",
       "      <td>-0.07383</td>\n",
       "      <td>-0.08616</td>\n",
       "      <td>-0.12901</td>\n",
       "      <td>-0.17722</td>\n",
       "      <td>-0.08717</td>\n",
       "      <td>-0.14244</td>\n",
       "      <td>-0.26746</td>\n",
       "      <td>-0.09700</td>\n",
       "      <td>-0.14742</td>\n",
       "      <td>-0.19126</td>\n",
       "      <td>0.04187</td>\n",
       "      <td>-0.10120</td>\n",
       "      <td>1.00000</td>\n",
       "      <td>0.44739</td>\n",
       "    </tr>\n",
       "    <tr>\n",
       "      <th>Income</th>\n",
       "      <td>-0.21058</td>\n",
       "      <td>-0.17408</td>\n",
       "      <td>-0.09715</td>\n",
       "      <td>-0.11072</td>\n",
       "      <td>-0.09217</td>\n",
       "      <td>-0.18301</td>\n",
       "      <td>-0.06629</td>\n",
       "      <td>-0.14385</td>\n",
       "      <td>-0.36710</td>\n",
       "      <td>-0.21018</td>\n",
       "      <td>-0.26876</td>\n",
       "      <td>-0.33355</td>\n",
       "      <td>0.16093</td>\n",
       "      <td>-0.12350</td>\n",
       "      <td>0.44739</td>\n",
       "      <td>1.00000</td>\n",
       "    </tr>\n",
       "  </tbody>\n",
       "</table>\n",
       "</div>"
      ],
      "text/plain": [
       "                 Diabetes_binary   HighBP  HighChol      BMI   Smoker  \\\n",
       "Diabetes_binary          1.00000  0.36912   0.27898  0.28364  0.07337   \n",
       "HighBP                   0.36912  1.00000   0.30612  0.23041  0.07581   \n",
       "HighChol                 0.27898  0.30612   1.00000  0.12220  0.08484   \n",
       "BMI                      0.28364  0.23041   0.12220  1.00000  0.00075   \n",
       "Smoker                   0.07337  0.07581   0.08484  0.00075  1.00000   \n",
       "PhysActivity             0.14834  0.12681   0.08350  0.16195  0.07113   \n",
       "Fruits                   0.04277  0.03065   0.03993  0.07509  0.06681   \n",
       "Veggies                  0.07054  0.05854   0.03698  0.04841  0.02279   \n",
       "GenHlth                  0.39400  0.30551   0.22540  0.25354  0.13836   \n",
       "MentHlth                 0.07926  0.05688   0.07934  0.09763  0.08563   \n",
       "PhysHlth                 0.20556  0.16669   0.13761  0.15373  0.11390   \n",
       "DiffWalk                 0.26617  0.22881   0.15738  0.23900  0.11286   \n",
       "Sex                      0.04139  0.03690   0.01136 -0.00347  0.11385   \n",
       "Age                      0.27300  0.33214   0.23357 -0.04683  0.09844   \n",
       "Education               -0.15591 -0.12766  -0.07383 -0.08616 -0.12901   \n",
       "Income                  -0.21058 -0.17408  -0.09715 -0.11072 -0.09217   \n",
       "\n",
       "                 PhysActivity   Fruits  Veggies  GenHlth  MentHlth  PhysHlth  \\\n",
       "Diabetes_binary       0.14834  0.04277  0.07054  0.39400   0.07926   0.20556   \n",
       "HighBP                0.12681  0.03065  0.05854  0.30551   0.05688   0.16669   \n",
       "HighChol              0.08350  0.03993  0.03698  0.22540   0.07934   0.13761   \n",
       "BMI                   0.16195  0.07509  0.04841  0.25354   0.09763   0.15373   \n",
       "Smoker                0.07113  0.06681  0.02279  0.13836   0.08563   0.11390   \n",
       "PhysActivity          1.00000  0.12588  0.14146  0.26145   0.12250   0.22603   \n",
       "Fruits                0.12588  1.00000  0.23348  0.08432   0.05579   0.04010   \n",
       "Veggies               0.14146  0.23348  1.00000  0.10347   0.04590   0.05874   \n",
       "GenHlth               0.26145  0.08432  0.10347  1.00000   0.30869   0.54951   \n",
       "MentHlth              0.12250  0.05579  0.04590  0.30869   1.00000   0.37529   \n",
       "PhysHlth              0.22603  0.04010  0.05874  0.54951   0.37529   1.00000   \n",
       "DiffWalk              0.26892  0.04231  0.07606  0.47114   0.24533   0.48267   \n",
       "Sex                  -0.05142  0.08880  0.05448 -0.01715  -0.08962  -0.04529   \n",
       "Age                   0.09730 -0.06674  0.01530  0.14754  -0.10704   0.08159   \n",
       "Education            -0.17722 -0.08717 -0.14244 -0.26746  -0.09700  -0.14742   \n",
       "Income               -0.18301 -0.06629 -0.14385 -0.36710  -0.21018  -0.26876   \n",
       "\n",
       "                 DiffWalk      Sex      Age  Education   Income  \n",
       "Diabetes_binary   0.26617  0.04139  0.27300   -0.15591 -0.21058  \n",
       "HighBP            0.22881  0.03690  0.33214   -0.12766 -0.17408  \n",
       "HighChol          0.15738  0.01136  0.23357   -0.07383 -0.09715  \n",
       "BMI               0.23900 -0.00347 -0.04683   -0.08616 -0.11072  \n",
       "Smoker            0.11286  0.11385  0.09844   -0.12901 -0.09217  \n",
       "PhysActivity      0.26892 -0.05142  0.09730   -0.17722 -0.18301  \n",
       "Fruits            0.04231  0.08880 -0.06674   -0.08717 -0.06629  \n",
       "Veggies           0.07606  0.05448  0.01530   -0.14244 -0.14385  \n",
       "GenHlth           0.47114 -0.01715  0.14754   -0.26746 -0.36710  \n",
       "MentHlth          0.24533 -0.08962 -0.10704   -0.09700 -0.21018  \n",
       "PhysHlth          0.48267 -0.04529  0.08159   -0.14742 -0.26876  \n",
       "DiffWalk          1.00000 -0.08231  0.19393   -0.19126 -0.33355  \n",
       "Sex              -0.08231  1.00000 -0.00580    0.04187  0.16093  \n",
       "Age               0.19393 -0.00580  1.00000   -0.10120 -0.12350  \n",
       "Education        -0.19126  0.04187 -0.10120    1.00000  0.44739  \n",
       "Income           -0.33355  0.16093 -0.12350    0.44739  1.00000  "
      ]
     },
     "execution_count": 11,
     "metadata": {},
     "output_type": "execute_result"
    }
   ],
   "source": [
    "# Correlation Matrix v1\n",
    "df_corr = np.round(df.corr(),5)\n",
    "df_corr"
   ]
  },
  {
   "cell_type": "code",
   "execution_count": 12,
   "metadata": {},
   "outputs": [
    {
     "data": {
      "image/png": "[encoded data removed]",
      "text/plain": [
       "<Figure size 1080x648 with 2 Axes>"
      ]
     },
     "metadata": {
      "needs_background": "light"
     },
     "output_type": "display_data"
    }
   ],
   "source": [
    "# Correlation Matrix v2\n",
    "mask = np.zeros_like(df_corr)\n",
    "mask[np.triu_indices_from(mask)] = True\n",
    "\n",
    "fig, ax = plt.subplots(figsize=(15, 9))\n",
    "ax = sns.heatmap(df_corr, mask=mask, annot=True, annot_kws={'size':7.5}, fmt=\".2f\")"
   ]
  },
  {
   "cell_type": "code",
   "execution_count": 13,
   "metadata": {},
   "outputs": [
    {
     "data": {
      "image/png": "[encoded data removed]",
      "text/plain": [
       "<Figure size 1080x648 with 2 Axes>"
      ]
     },
     "metadata": {
      "needs_background": "light"
     },
     "output_type": "display_data"
    }
   ],
   "source": [
    "# Correlation Matrix v3\n",
    "df_corr_modified = abs(np.array(df_corr))\n",
    "for i in range(len(df_corr_modified)):\n",
    "    for j in range(len(df_corr_modified)):\n",
    "        if df_corr_modified[i][j] <= 0.1:\n",
    "            df_corr_modified[i][j] = 0\n",
    "            \n",
    "mask = np.zeros_like(df_corr_modified)\n",
    "mask[np.triu_indices_from(mask)] = True\n",
    "\n",
    "fig, ax = plt.subplots(figsize=(15, 9))\n",
    "ax = sns.heatmap(df_corr_modified, mask=mask, annot=True, annot_kws={'size':7.5}, fmt=\".2f\")"
   ]
  },
  {
   "cell_type": "markdown",
   "metadata": {
    "id": "fXMRsZ4UbqmX",
    "tags": []
   },
   "source": [
    "### **Image Creation**"
   ]
  },
  {
   "cell_type": "code",
   "execution_count": 14,
   "metadata": {},
   "outputs": [
    {
     "data": {
      "text/html": [
       "<div>\n",
       "<style scoped>\n",
       "    .dataframe tbody tr th:only-of-type {\n",
       "        vertical-align: middle;\n",
       "    }\n",
       "\n",
       "    .dataframe tbody tr th {\n",
       "        vertical-align: top;\n",
       "    }\n",
       "\n",
       "    .dataframe thead th {\n",
       "        text-align: right;\n",
       "    }\n",
       "</style>\n",
       "<table border=\"1\" class=\"dataframe\">\n",
       "  <thead>\n",
       "    <tr style=\"text-align: right;\">\n",
       "      <th></th>\n",
       "      <th>Diabetes_binary</th>\n",
       "      <th>HighBP</th>\n",
       "      <th>HighChol</th>\n",
       "      <th>BMI</th>\n",
       "      <th>PhysActivity</th>\n",
       "      <th>GenHlth</th>\n",
       "      <th>PhysHlth</th>\n",
       "      <th>DiffWalk</th>\n",
       "      <th>Age</th>\n",
       "      <th>Education</th>\n",
       "      <th>Income</th>\n",
       "    </tr>\n",
       "  </thead>\n",
       "  <tbody>\n",
       "    <tr>\n",
       "      <th>0</th>\n",
       "      <td>0.0</td>\n",
       "      <td>1.0</td>\n",
       "      <td>0.0</td>\n",
       "      <td>26.0</td>\n",
       "      <td>0.0</td>\n",
       "      <td>3.0</td>\n",
       "      <td>30.0</td>\n",
       "      <td>0.0</td>\n",
       "      <td>4.0</td>\n",
       "      <td>6.0</td>\n",
       "      <td>8.0</td>\n",
       "    </tr>\n",
       "    <tr>\n",
       "      <th>1</th>\n",
       "      <td>0.0</td>\n",
       "      <td>1.0</td>\n",
       "      <td>1.0</td>\n",
       "      <td>26.0</td>\n",
       "      <td>1.0</td>\n",
       "      <td>3.0</td>\n",
       "      <td>0.0</td>\n",
       "      <td>0.0</td>\n",
       "      <td>12.0</td>\n",
       "      <td>6.0</td>\n",
       "      <td>8.0</td>\n",
       "    </tr>\n",
       "    <tr>\n",
       "      <th>2</th>\n",
       "      <td>0.0</td>\n",
       "      <td>0.0</td>\n",
       "      <td>0.0</td>\n",
       "      <td>26.0</td>\n",
       "      <td>0.0</td>\n",
       "      <td>1.0</td>\n",
       "      <td>10.0</td>\n",
       "      <td>0.0</td>\n",
       "      <td>13.0</td>\n",
       "      <td>6.0</td>\n",
       "      <td>8.0</td>\n",
       "    </tr>\n",
       "    <tr>\n",
       "      <th>3</th>\n",
       "      <td>0.0</td>\n",
       "      <td>1.0</td>\n",
       "      <td>1.0</td>\n",
       "      <td>28.0</td>\n",
       "      <td>0.0</td>\n",
       "      <td>3.0</td>\n",
       "      <td>3.0</td>\n",
       "      <td>0.0</td>\n",
       "      <td>11.0</td>\n",
       "      <td>6.0</td>\n",
       "      <td>8.0</td>\n",
       "    </tr>\n",
       "    <tr>\n",
       "      <th>4</th>\n",
       "      <td>0.0</td>\n",
       "      <td>0.0</td>\n",
       "      <td>0.0</td>\n",
       "      <td>29.0</td>\n",
       "      <td>0.0</td>\n",
       "      <td>2.0</td>\n",
       "      <td>0.0</td>\n",
       "      <td>0.0</td>\n",
       "      <td>8.0</td>\n",
       "      <td>5.0</td>\n",
       "      <td>8.0</td>\n",
       "    </tr>\n",
       "    <tr>\n",
       "      <th>...</th>\n",
       "      <td>...</td>\n",
       "      <td>...</td>\n",
       "      <td>...</td>\n",
       "      <td>...</td>\n",
       "      <td>...</td>\n",
       "      <td>...</td>\n",
       "      <td>...</td>\n",
       "      <td>...</td>\n",
       "      <td>...</td>\n",
       "      <td>...</td>\n",
       "      <td>...</td>\n",
       "    </tr>\n",
       "    <tr>\n",
       "      <th>70687</th>\n",
       "      <td>1.0</td>\n",
       "      <td>0.0</td>\n",
       "      <td>1.0</td>\n",
       "      <td>37.0</td>\n",
       "      <td>1.0</td>\n",
       "      <td>4.0</td>\n",
       "      <td>0.0</td>\n",
       "      <td>0.0</td>\n",
       "      <td>6.0</td>\n",
       "      <td>4.0</td>\n",
       "      <td>1.0</td>\n",
       "    </tr>\n",
       "    <tr>\n",
       "      <th>70688</th>\n",
       "      <td>1.0</td>\n",
       "      <td>0.0</td>\n",
       "      <td>1.0</td>\n",
       "      <td>29.0</td>\n",
       "      <td>1.0</td>\n",
       "      <td>2.0</td>\n",
       "      <td>0.0</td>\n",
       "      <td>1.0</td>\n",
       "      <td>10.0</td>\n",
       "      <td>3.0</td>\n",
       "      <td>6.0</td>\n",
       "    </tr>\n",
       "    <tr>\n",
       "      <th>70689</th>\n",
       "      <td>1.0</td>\n",
       "      <td>1.0</td>\n",
       "      <td>1.0</td>\n",
       "      <td>25.0</td>\n",
       "      <td>1.0</td>\n",
       "      <td>5.0</td>\n",
       "      <td>0.0</td>\n",
       "      <td>1.0</td>\n",
       "      <td>13.0</td>\n",
       "      <td>6.0</td>\n",
       "      <td>4.0</td>\n",
       "    </tr>\n",
       "    <tr>\n",
       "      <th>70690</th>\n",
       "      <td>1.0</td>\n",
       "      <td>1.0</td>\n",
       "      <td>1.0</td>\n",
       "      <td>18.0</td>\n",
       "      <td>1.0</td>\n",
       "      <td>4.0</td>\n",
       "      <td>0.0</td>\n",
       "      <td>1.0</td>\n",
       "      <td>11.0</td>\n",
       "      <td>2.0</td>\n",
       "      <td>4.0</td>\n",
       "    </tr>\n",
       "    <tr>\n",
       "      <th>70691</th>\n",
       "      <td>1.0</td>\n",
       "      <td>1.0</td>\n",
       "      <td>1.0</td>\n",
       "      <td>25.0</td>\n",
       "      <td>0.0</td>\n",
       "      <td>2.0</td>\n",
       "      <td>0.0</td>\n",
       "      <td>0.0</td>\n",
       "      <td>9.0</td>\n",
       "      <td>6.0</td>\n",
       "      <td>2.0</td>\n",
       "    </tr>\n",
       "  </tbody>\n",
       "</table>\n",
       "<p>68495 rows × 11 columns</p>\n",
       "</div>"
      ],
      "text/plain": [
       "       Diabetes_binary  HighBP  HighChol   BMI  PhysActivity  GenHlth  \\\n",
       "0                  0.0     1.0       0.0  26.0           0.0      3.0   \n",
       "1                  0.0     1.0       1.0  26.0           1.0      3.0   \n",
       "2                  0.0     0.0       0.0  26.0           0.0      1.0   \n",
       "3                  0.0     1.0       1.0  28.0           0.0      3.0   \n",
       "4                  0.0     0.0       0.0  29.0           0.0      2.0   \n",
       "...                ...     ...       ...   ...           ...      ...   \n",
       "70687              1.0     0.0       1.0  37.0           1.0      4.0   \n",
       "70688              1.0     0.0       1.0  29.0           1.0      2.0   \n",
       "70689              1.0     1.0       1.0  25.0           1.0      5.0   \n",
       "70690              1.0     1.0       1.0  18.0           1.0      4.0   \n",
       "70691              1.0     1.0       1.0  25.0           0.0      2.0   \n",
       "\n",
       "       PhysHlth  DiffWalk   Age  Education  Income  \n",
       "0          30.0       0.0   4.0        6.0     8.0  \n",
       "1           0.0       0.0  12.0        6.0     8.0  \n",
       "2          10.0       0.0  13.0        6.0     8.0  \n",
       "3           3.0       0.0  11.0        6.0     8.0  \n",
       "4           0.0       0.0   8.0        5.0     8.0  \n",
       "...         ...       ...   ...        ...     ...  \n",
       "70687       0.0       0.0   6.0        4.0     1.0  \n",
       "70688       0.0       1.0  10.0        3.0     6.0  \n",
       "70689       0.0       1.0  13.0        6.0     4.0  \n",
       "70690       0.0       1.0  11.0        2.0     4.0  \n",
       "70691       0.0       0.0   9.0        6.0     2.0  \n",
       "\n",
       "[68495 rows x 11 columns]"
      ]
     },
     "metadata": {},
     "output_type": "display_data"
    }
   ],
   "source": [
    "# Additional Drop Column based on Correlation Matrix\n",
    "df = df.drop(columns=[\"Smoker\",\n",
    "                      \"Fruits\",\n",
    "                      \"Veggies\",\n",
    "                      \"MentHlth\",\n",
    "                      \"Sex\"])\n",
    "display(df)"
   ]
  },
  {
   "cell_type": "code",
   "execution_count": 15,
   "metadata": {},
   "outputs": [
    {
     "name": "stdout",
     "output_type": "stream",
     "text": [
      "Uniqueness Percentage: 0.8775677056719469\n"
     ]
    },
    {
     "data": {
      "text/html": [
       "<div>\n",
       "<style scoped>\n",
       "    .dataframe tbody tr th:only-of-type {\n",
       "        vertical-align: middle;\n",
       "    }\n",
       "\n",
       "    .dataframe tbody tr th {\n",
       "        vertical-align: top;\n",
       "    }\n",
       "\n",
       "    .dataframe thead th {\n",
       "        text-align: right;\n",
       "    }\n",
       "</style>\n",
       "<table border=\"1\" class=\"dataframe\">\n",
       "  <thead>\n",
       "    <tr style=\"text-align: right;\">\n",
       "      <th></th>\n",
       "      <th>Diabetes_binary</th>\n",
       "      <th>HighBP</th>\n",
       "      <th>HighChol</th>\n",
       "      <th>BMI</th>\n",
       "      <th>PhysActivity</th>\n",
       "      <th>GenHlth</th>\n",
       "      <th>PhysHlth</th>\n",
       "      <th>DiffWalk</th>\n",
       "      <th>Age</th>\n",
       "      <th>Education</th>\n",
       "      <th>Income</th>\n",
       "    </tr>\n",
       "  </thead>\n",
       "  <tbody>\n",
       "    <tr>\n",
       "      <th>0</th>\n",
       "      <td>0.0</td>\n",
       "      <td>1.0</td>\n",
       "      <td>0.0</td>\n",
       "      <td>26.0</td>\n",
       "      <td>0.0</td>\n",
       "      <td>3.0</td>\n",
       "      <td>30.0</td>\n",
       "      <td>0.0</td>\n",
       "      <td>4.0</td>\n",
       "      <td>6.0</td>\n",
       "      <td>8.0</td>\n",
       "    </tr>\n",
       "    <tr>\n",
       "      <th>1</th>\n",
       "      <td>0.0</td>\n",
       "      <td>1.0</td>\n",
       "      <td>1.0</td>\n",
       "      <td>26.0</td>\n",
       "      <td>1.0</td>\n",
       "      <td>3.0</td>\n",
       "      <td>0.0</td>\n",
       "      <td>0.0</td>\n",
       "      <td>12.0</td>\n",
       "      <td>6.0</td>\n",
       "      <td>8.0</td>\n",
       "    </tr>\n",
       "    <tr>\n",
       "      <th>2</th>\n",
       "      <td>0.0</td>\n",
       "      <td>0.0</td>\n",
       "      <td>0.0</td>\n",
       "      <td>26.0</td>\n",
       "      <td>0.0</td>\n",
       "      <td>1.0</td>\n",
       "      <td>10.0</td>\n",
       "      <td>0.0</td>\n",
       "      <td>13.0</td>\n",
       "      <td>6.0</td>\n",
       "      <td>8.0</td>\n",
       "    </tr>\n",
       "    <tr>\n",
       "      <th>3</th>\n",
       "      <td>0.0</td>\n",
       "      <td>1.0</td>\n",
       "      <td>1.0</td>\n",
       "      <td>28.0</td>\n",
       "      <td>0.0</td>\n",
       "      <td>3.0</td>\n",
       "      <td>3.0</td>\n",
       "      <td>0.0</td>\n",
       "      <td>11.0</td>\n",
       "      <td>6.0</td>\n",
       "      <td>8.0</td>\n",
       "    </tr>\n",
       "    <tr>\n",
       "      <th>4</th>\n",
       "      <td>0.0</td>\n",
       "      <td>0.0</td>\n",
       "      <td>0.0</td>\n",
       "      <td>29.0</td>\n",
       "      <td>0.0</td>\n",
       "      <td>2.0</td>\n",
       "      <td>0.0</td>\n",
       "      <td>0.0</td>\n",
       "      <td>8.0</td>\n",
       "      <td>5.0</td>\n",
       "      <td>8.0</td>\n",
       "    </tr>\n",
       "    <tr>\n",
       "      <th>...</th>\n",
       "      <td>...</td>\n",
       "      <td>...</td>\n",
       "      <td>...</td>\n",
       "      <td>...</td>\n",
       "      <td>...</td>\n",
       "      <td>...</td>\n",
       "      <td>...</td>\n",
       "      <td>...</td>\n",
       "      <td>...</td>\n",
       "      <td>...</td>\n",
       "      <td>...</td>\n",
       "    </tr>\n",
       "    <tr>\n",
       "      <th>70687</th>\n",
       "      <td>1.0</td>\n",
       "      <td>0.0</td>\n",
       "      <td>1.0</td>\n",
       "      <td>37.0</td>\n",
       "      <td>1.0</td>\n",
       "      <td>4.0</td>\n",
       "      <td>0.0</td>\n",
       "      <td>0.0</td>\n",
       "      <td>6.0</td>\n",
       "      <td>4.0</td>\n",
       "      <td>1.0</td>\n",
       "    </tr>\n",
       "    <tr>\n",
       "      <th>70688</th>\n",
       "      <td>1.0</td>\n",
       "      <td>0.0</td>\n",
       "      <td>1.0</td>\n",
       "      <td>29.0</td>\n",
       "      <td>1.0</td>\n",
       "      <td>2.0</td>\n",
       "      <td>0.0</td>\n",
       "      <td>1.0</td>\n",
       "      <td>10.0</td>\n",
       "      <td>3.0</td>\n",
       "      <td>6.0</td>\n",
       "    </tr>\n",
       "    <tr>\n",
       "      <th>70689</th>\n",
       "      <td>1.0</td>\n",
       "      <td>1.0</td>\n",
       "      <td>1.0</td>\n",
       "      <td>25.0</td>\n",
       "      <td>1.0</td>\n",
       "      <td>5.0</td>\n",
       "      <td>0.0</td>\n",
       "      <td>1.0</td>\n",
       "      <td>13.0</td>\n",
       "      <td>6.0</td>\n",
       "      <td>4.0</td>\n",
       "    </tr>\n",
       "    <tr>\n",
       "      <th>70690</th>\n",
       "      <td>1.0</td>\n",
       "      <td>1.0</td>\n",
       "      <td>1.0</td>\n",
       "      <td>18.0</td>\n",
       "      <td>1.0</td>\n",
       "      <td>4.0</td>\n",
       "      <td>0.0</td>\n",
       "      <td>1.0</td>\n",
       "      <td>11.0</td>\n",
       "      <td>2.0</td>\n",
       "      <td>4.0</td>\n",
       "    </tr>\n",
       "    <tr>\n",
       "      <th>70691</th>\n",
       "      <td>1.0</td>\n",
       "      <td>1.0</td>\n",
       "      <td>1.0</td>\n",
       "      <td>25.0</td>\n",
       "      <td>0.0</td>\n",
       "      <td>2.0</td>\n",
       "      <td>0.0</td>\n",
       "      <td>0.0</td>\n",
       "      <td>9.0</td>\n",
       "      <td>6.0</td>\n",
       "      <td>2.0</td>\n",
       "    </tr>\n",
       "  </tbody>\n",
       "</table>\n",
       "<p>60109 rows × 11 columns</p>\n",
       "</div>"
      ],
      "text/plain": [
       "       Diabetes_binary  HighBP  HighChol   BMI  PhysActivity  GenHlth  \\\n",
       "0                  0.0     1.0       0.0  26.0           0.0      3.0   \n",
       "1                  0.0     1.0       1.0  26.0           1.0      3.0   \n",
       "2                  0.0     0.0       0.0  26.0           0.0      1.0   \n",
       "3                  0.0     1.0       1.0  28.0           0.0      3.0   \n",
       "4                  0.0     0.0       0.0  29.0           0.0      2.0   \n",
       "...                ...     ...       ...   ...           ...      ...   \n",
       "70687              1.0     0.0       1.0  37.0           1.0      4.0   \n",
       "70688              1.0     0.0       1.0  29.0           1.0      2.0   \n",
       "70689              1.0     1.0       1.0  25.0           1.0      5.0   \n",
       "70690              1.0     1.0       1.0  18.0           1.0      4.0   \n",
       "70691              1.0     1.0       1.0  25.0           0.0      2.0   \n",
       "\n",
       "       PhysHlth  DiffWalk   Age  Education  Income  \n",
       "0          30.0       0.0   4.0        6.0     8.0  \n",
       "1           0.0       0.0  12.0        6.0     8.0  \n",
       "2          10.0       0.0  13.0        6.0     8.0  \n",
       "3           3.0       0.0  11.0        6.0     8.0  \n",
       "4           0.0       0.0   8.0        5.0     8.0  \n",
       "...         ...       ...   ...        ...     ...  \n",
       "70687       0.0       0.0   6.0        4.0     1.0  \n",
       "70688       0.0       1.0  10.0        3.0     6.0  \n",
       "70689       0.0       1.0  13.0        6.0     4.0  \n",
       "70690       0.0       1.0  11.0        2.0     4.0  \n",
       "70691       0.0       0.0   9.0        6.0     2.0  \n",
       "\n",
       "[60109 rows x 11 columns]"
      ]
     },
     "metadata": {},
     "output_type": "display_data"
    }
   ],
   "source": [
    "# 2nd Duplicates Checking\n",
    "print(\"Uniqueness Percentage:\", len(df.drop_duplicates()) / len(df))\n",
    "if len(df.drop_duplicates()) / len(df) != 1:\n",
    "    df = df.drop_duplicates()\n",
    "display(df)"
   ]
  },
  {
   "cell_type": "markdown",
   "metadata": {
    "id": "Wq3R7uPS5pGx",
    "tags": []
   },
   "source": [
    "#### **Data Splitting**"
   ]
  },
  {
   "cell_type": "code",
   "execution_count": 16,
   "metadata": {
    "id": "3gIrFUsJF7Gh"
   },
   "outputs": [],
   "source": [
    "from sklearn.preprocessing import MinMaxScaler, OneHotEncoder\n",
    "from sklearn.model_selection import train_test_split\n",
    "\n",
    "from collections import Counter"
   ]
  },
  {
   "cell_type": "code",
   "execution_count": 17,
   "metadata": {
    "id": "M5qxRz44DB2u"
   },
   "outputs": [],
   "source": [
    "# Data Selection\n",
    "X = df.drop(columns=['Diabetes_binary'])\n",
    "y = df['Diabetes_binary']\n",
    "\n",
    "# Normalization\n",
    "mm_scaler = MinMaxScaler(feature_range=(0, 1))\n",
    "X         = mm_scaler.fit_transform(X)\n",
    "\n",
    "# Data Splitting\n",
    "x_train, x_test, y_train, y_test = train_test_split(X, y, test_size=0.2, random_state=123)"
   ]
  },
  {
   "cell_type": "code",
   "execution_count": 18,
   "metadata": {},
   "outputs": [
    {
     "name": "stdout",
     "output_type": "stream",
     "text": [
      "Class Distribution: [0.46133051 0.53866949]\n"
     ]
    }
   ],
   "source": [
    "# Class Percentage\n",
    "_labels, _counts = np.unique(y_train, return_counts=True)\n",
    "print(\"Class Distribution:\", _counts/len(y_train))"
   ]
  },
  {
   "cell_type": "markdown",
   "metadata": {
    "id": "LLOKANBV6OXx",
    "tags": []
   },
   "source": [
    "#### **Images Creation**"
   ]
  },
  {
   "cell_type": "code",
   "execution_count": 19,
   "metadata": {
    "id": "bLMdfnKd87qb"
   },
   "outputs": [],
   "source": [
    "def reshape_as_image(x, img_width, img_height):\n",
    "    x_temp = np.zeros((len(x), img_height, img_width))\n",
    "    for i in range(x.shape[0]):\n",
    "        x_temp[i] = np.reshape(x[i], (img_height, img_width))\n",
    "    return x_temp"
   ]
  },
  {
   "cell_type": "code",
   "execution_count": 20,
   "metadata": {
    "colab": {
     "base_uri": "https://localhost:8080/"
    },
    "executionInfo": {
     "elapsed": 10,
     "status": "ok",
     "timestamp": 1653552254954,
     "user": {
      "displayName": "Owen Nathanael H.",
      "userId": "07566894094871464303"
     },
     "user_tz": -420
    },
    "id": "ZDQaA0dsHqv4",
    "outputId": "ce4c5fb4-0428-413a-b019-edcc5c42c858"
   },
   "outputs": [
    {
     "name": "stdout",
     "output_type": "stream",
     "text": [
      "Final shape of x,y train/test is (48087, 10, 1) (48087,) (12022, 10, 1) (12022,)\n"
     ]
    }
   ],
   "source": [
    "one_hot_enc = OneHotEncoder(sparse=False, categories='auto')\n",
    "\n",
    "x_train = reshape_as_image(x_train, 1, 10)\n",
    "x_test  = reshape_as_image(x_test, 1, 10)\n",
    "\n",
    "print(\"Final shape of x,y train/test is {} {} {} {}\".format(x_train.shape, y_train.shape, x_test.shape, y_test.shape))"
   ]
  },
  {
   "cell_type": "code",
   "execution_count": 213,
   "metadata": {},
   "outputs": [
    {
     "name": "stdout",
     "output_type": "stream",
     "text": [
      "39136\n",
      "36388\n",
      "35544\n",
      "35454\n",
      "36999\n",
      "39549\n",
      "38159\n",
      "38044\n",
      "37106\n"
     ]
    },
    {
     "data": {
      "image/png": "[encoded data removed]",
      "text/plain": [
       "<Figure size 3600x360 with 9 Axes>"
      ]
     },
     "metadata": {
      "needs_background": "light"
     },
     "output_type": "display_data"
    }
   ],
   "source": [
    "iter_obs = 800\n",
    "fig = plt.figure(figsize=(50, 5))\n",
    "index_selection = y_train[iter_obs:iter_obs+100].index\n",
    "\n",
    "i = 1\n",
    "for index in index_selection:\n",
    "    if index < 40000 and y_train[index] == 1:\n",
    "        img = x_train[index]\n",
    "        fig.add_subplot(1, len(index_selection), i)\n",
    "        i += 1\n",
    "\n",
    "        if y_train[index] == 0:\n",
    "            plt.title('0', fontsize=8)\n",
    "        if y_train[index] == 1:\n",
    "            plt.title('1', fontsize=8)\n",
    "\n",
    "        plt.axis(\"off\")\n",
    "        plt.subplots_adjust(wspace=0.2, hspace=0.2)\n",
    "        plt.imshow(img)\n",
    "        \n",
    "        print(index)\n",
    "\n",
    "plt.show()"
   ]
  },
  {
   "cell_type": "code",
   "execution_count": 211,
   "metadata": {
    "colab": {
     "base_uri": "https://localhost:8080/",
     "height": 261
    },
    "executionInfo": {
     "elapsed": 415,
     "status": "ok",
     "timestamp": 1653552257468,
     "user": {
      "displayName": "Owen Nathanael H.",
      "userId": "07566894094871464303"
     },
     "user_tz": -420
    },
    "id": "BIzuYpLG6hvu",
    "outputId": "d28a49b3-4c05-4c03-e549-4ed0eb24f64a"
   },
   "outputs": [
    {
     "data": {
      "image/png": "[encoded data removed]",
      "text/plain": [
       "<Figure size 360x360 with 6 Axes>"
      ]
     },
     "metadata": {
      "needs_background": "light"
     },
     "output_type": "display_data"
    }
   ],
   "source": [
    "fig = plt.figure(figsize=(5, 5))\n",
    "index_selection = [28552, 20603, 8537, 43222, 37501, 38877]\n",
    "\n",
    "i = 1\n",
    "for index in index_selection:\n",
    "\n",
    "    img = x_train[index]\n",
    "    fig.add_subplot(1, len(index_selection), i)\n",
    "    i += 1\n",
    "    \n",
    "    if y_train[index] == 0:\n",
    "        plt.title('0', fontsize=8)\n",
    "    if y_train[index] == 1:\n",
    "        plt.title('1', fontsize=8)\n",
    "    \n",
    "    plt.axis(\"off\")\n",
    "    plt.subplots_adjust(wspace=0.2, hspace=0.2)\n",
    "    plt.imshow(img)\n",
    "\n",
    "plt.show()"
   ]
  },
  {
   "cell_type": "markdown",
   "metadata": {
    "id": "C2cPJEZtf8SI",
    "tags": []
   },
   "source": [
    "### **Convolutional Neural Network (CNN)**\n"
   ]
  },
  {
   "cell_type": "markdown",
   "metadata": {
    "id": "Tg8A5TV1Dc58",
    "tags": []
   },
   "source": [
    "#### **Define Function**"
   ]
  },
  {
   "cell_type": "code",
   "execution_count": 32,
   "metadata": {
    "id": "oWX-7efkj6FQ"
   },
   "outputs": [],
   "source": [
    "from functools import *\n",
    "from tensorflow.keras.models import Sequential, load_model, Model\n",
    "from tensorflow.keras.layers import Dense, Dropout\n",
    "from tensorflow.keras.layers import Conv1D, AveragePooling1D, Flatten, LeakyReLU\n",
    "from tensorflow.keras.callbacks import ModelCheckpoint, EarlyStopping, ReduceLROnPlateau, CSVLogger, Callback\n",
    "from tensorflow.keras import optimizers"
   ]
  },
  {
   "cell_type": "code",
   "execution_count": 64,
   "metadata": {
    "id": "rf_PeSrjJBR-"
   },
   "outputs": [
    {
     "name": "stdout",
     "output_type": "stream",
     "text": [
      "Model: \"sequential_8\"\n",
      "_________________________________________________________________\n",
      " Layer (type)                Output Shape              Param #   \n",
      "=================================================================\n",
      " conv1d_16 (Conv1D)          (None, 9, 60)             180       \n",
      "                                                                 \n",
      " average_pooling1d_7 (Avera  (None, 4, 60)             0         \n",
      " gePooling1D)                                                    \n",
      "                                                                 \n",
      " conv1d_17 (Conv1D)          (None, 3, 30)             3630      \n",
      "                                                                 \n",
      " dropout_16 (Dropout)        (None, 3, 30)             0         \n",
      "                                                                 \n",
      " flatten_8 (Flatten)         (None, 90)                0         \n",
      "                                                                 \n",
      " dense_24 (Dense)            (None, 120)               10920     \n",
      "                                                                 \n",
      " dropout_17 (Dropout)        (None, 120)               0         \n",
      "                                                                 \n",
      " dense_25 (Dense)            (None, 60)                7260      \n",
      "                                                                 \n",
      " dense_26 (Dense)            (None, 1)                 61        \n",
      "                                                                 \n",
      "=================================================================\n",
      "Total params: 22051 (86.14 KB)\n",
      "Trainable params: 22051 (86.14 KB)\n",
      "Non-trainable params: 0 (0.00 Byte)\n",
      "_________________________________________________________________\n"
     ]
    }
   ],
   "source": [
    "model = Sequential()\n",
    "model.add(Conv1D(filters=60, kernel_size=2, activation='relu', input_shape=(10, 1)))\n",
    "model.add(AveragePooling1D(pool_size=2))\n",
    "model.add(Conv1D(filters=30, kernel_size=2, activation='relu', input_shape=(20, 1)))\n",
    "model.add(Dropout(rate=0.1))\n",
    "model.add(Flatten())\n",
    "model.add(Dense(120, activation='softmax'))\n",
    "model.add(Dropout(rate=0.1))\n",
    "model.add(Dense(60, activation='softmax'))\n",
    "model.add(Dense(1))\n",
    "\n",
    "model.compile(optimizer='nadam', loss='mse', metrics=['accuracy'])\n",
    "\n",
    "model.summary()"
   ]
  },
  {
   "cell_type": "markdown",
   "metadata": {
    "id": "PlFUSqcMK6-N",
    "tags": []
   },
   "source": [
    "#### **Training Model**"
   ]
  },
  {
   "cell_type": "code",
   "execution_count": 65,
   "metadata": {},
   "outputs": [
    {
     "name": "stdout",
     "output_type": "stream",
     "text": [
      "WARNING:tensorflow:`period` argument is deprecated. Please use `save_freq` to specify the frequency in number of batches seen.\n"
     ]
    },
    {
     "name": "stderr",
     "output_type": "stream",
     "text": [
      "WARNING:tensorflow:`period` argument is deprecated. Please use `save_freq` to specify the frequency in number of batches seen.\n"
     ]
    }
   ],
   "source": [
    "import os\n",
    "\n",
    "best_model_path = os.path.join('.', 'best_model_keras')\n",
    "\n",
    "es = EarlyStopping(monitor='val_loss', mode='min', verbose=1,\n",
    "                   patience=60, min_delta=0.001)\n",
    "\n",
    "rlp = ReduceLROnPlateau(monitor='val_loss', factor=0.75, patience=10, verbose=1, mode='min',\n",
    "                        min_delta=0.001, cooldown=1, min_lr=0.00001)\n",
    "\n",
    "mcp = ModelCheckpoint(best_model_path, monitor='val_loss', mode='min', verbose=1,\n",
    "                      save_best_only=True, save_weights_only=False, period=1)"
   ]
  },
  {
   "cell_type": "code",
   "execution_count": 66,
   "metadata": {},
   "outputs": [
    {
     "name": "stdout",
     "output_type": "stream",
     "text": [
      "Epoch 1/100\n",
      "382/385 [============================>.] - ETA: 0s - loss: 0.3039 - accuracy: 0.4984\n",
      "Epoch 1: val_loss improved from inf to 0.23888, saving model to .\\best_model_keras\n",
      "INFO:tensorflow:Assets written to: .\\best_model_keras\\assets\n"
     ]
    },
    {
     "name": "stderr",
     "output_type": "stream",
     "text": [
      "INFO:tensorflow:Assets written to: .\\best_model_keras\\assets\n"
     ]
    },
    {
     "name": "stdout",
     "output_type": "stream",
     "text": [
      "385/385 [==============================] - 11s 22ms/step - loss: 0.3034 - accuracy: 0.4996 - val_loss: 0.2389 - val_accuracy: 0.6943 - lr: 0.0010\n",
      "Epoch 2/100\n",
      "384/385 [============================>.] - ETA: 0s - loss: 0.2234 - accuracy: 0.6881\n",
      "Epoch 2: val_loss improved from 0.23888 to 0.20586, saving model to .\\best_model_keras\n",
      "INFO:tensorflow:Assets written to: .\\best_model_keras\\assets\n"
     ]
    },
    {
     "name": "stderr",
     "output_type": "stream",
     "text": [
      "INFO:tensorflow:Assets written to: .\\best_model_keras\\assets\n"
     ]
    },
    {
     "name": "stdout",
     "output_type": "stream",
     "text": [
      "385/385 [==============================] - 10s 25ms/step - loss: 0.2234 - accuracy: 0.6879 - val_loss: 0.2059 - val_accuracy: 0.7094 - lr: 0.0010\n",
      "Epoch 3/100\n",
      "384/385 [============================>.] - ETA: 0s - loss: 0.2043 - accuracy: 0.7040\n",
      "Epoch 3: val_loss improved from 0.20586 to 0.19654, saving model to .\\best_model_keras\n",
      "INFO:tensorflow:Assets written to: .\\best_model_keras\\assets\n"
     ]
    },
    {
     "name": "stderr",
     "output_type": "stream",
     "text": [
      "INFO:tensorflow:Assets written to: .\\best_model_keras\\assets\n"
     ]
    },
    {
     "name": "stdout",
     "output_type": "stream",
     "text": [
      "385/385 [==============================] - 6s 16ms/step - loss: 0.2043 - accuracy: 0.7039 - val_loss: 0.1965 - val_accuracy: 0.7113 - lr: 0.0010\n",
      "Epoch 4/100\n",
      "379/385 [============================>.] - ETA: 0s - loss: 0.1987 - accuracy: 0.7051\n",
      "Epoch 4: val_loss improved from 0.19654 to 0.19085, saving model to .\\best_model_keras\n",
      "INFO:tensorflow:Assets written to: .\\best_model_keras\\assets\n"
     ]
    },
    {
     "name": "stderr",
     "output_type": "stream",
     "text": [
      "INFO:tensorflow:Assets written to: .\\best_model_keras\\assets\n"
     ]
    },
    {
     "name": "stdout",
     "output_type": "stream",
     "text": [
      "385/385 [==============================] - 6s 16ms/step - loss: 0.1986 - accuracy: 0.7054 - val_loss: 0.1908 - val_accuracy: 0.7151 - lr: 0.0010\n",
      "Epoch 5/100\n",
      "377/385 [============================>.] - ETA: 0s - loss: 0.1958 - accuracy: 0.7084\n",
      "Epoch 5: val_loss improved from 0.19085 to 0.18891, saving model to .\\best_model_keras\n",
      "INFO:tensorflow:Assets written to: .\\best_model_keras\\assets\n"
     ]
    },
    {
     "name": "stderr",
     "output_type": "stream",
     "text": [
      "INFO:tensorflow:Assets written to: .\\best_model_keras\\assets\n"
     ]
    },
    {
     "name": "stdout",
     "output_type": "stream",
     "text": [
      "385/385 [==============================] - 6s 16ms/step - loss: 0.1959 - accuracy: 0.7082 - val_loss: 0.1889 - val_accuracy: 0.7165 - lr: 0.0010\n",
      "Epoch 6/100\n",
      "385/385 [==============================] - ETA: 0s - loss: 0.1943 - accuracy: 0.7086\n",
      "Epoch 6: val_loss improved from 0.18891 to 0.18740, saving model to .\\best_model_keras\n",
      "INFO:tensorflow:Assets written to: .\\best_model_keras\\assets\n"
     ]
    },
    {
     "name": "stderr",
     "output_type": "stream",
     "text": [
      "INFO:tensorflow:Assets written to: .\\best_model_keras\\assets\n"
     ]
    },
    {
     "name": "stdout",
     "output_type": "stream",
     "text": [
      "385/385 [==============================] - 5s 12ms/step - loss: 0.1943 - accuracy: 0.7086 - val_loss: 0.1874 - val_accuracy: 0.7213 - lr: 0.0010\n",
      "Epoch 7/100\n",
      "379/385 [============================>.] - ETA: 0s - loss: 0.1928 - accuracy: 0.7106\n",
      "Epoch 7: val_loss improved from 0.18740 to 0.18605, saving model to .\\best_model_keras\n",
      "INFO:tensorflow:Assets written to: .\\best_model_keras\\assets\n"
     ]
    },
    {
     "name": "stderr",
     "output_type": "stream",
     "text": [
      "INFO:tensorflow:Assets written to: .\\best_model_keras\\assets\n"
     ]
    },
    {
     "name": "stdout",
     "output_type": "stream",
     "text": [
      "385/385 [==============================] - 5s 13ms/step - loss: 0.1929 - accuracy: 0.7101 - val_loss: 0.1860 - val_accuracy: 0.7241 - lr: 0.0010\n",
      "Epoch 8/100\n",
      "377/385 [============================>.] - ETA: 0s - loss: 0.1917 - accuracy: 0.7133\n",
      "Epoch 8: val_loss improved from 0.18605 to 0.18476, saving model to .\\best_model_keras\n",
      "INFO:tensorflow:Assets written to: .\\best_model_keras\\assets\n"
     ]
    },
    {
     "name": "stderr",
     "output_type": "stream",
     "text": [
      "INFO:tensorflow:Assets written to: .\\best_model_keras\\assets\n"
     ]
    },
    {
     "name": "stdout",
     "output_type": "stream",
     "text": [
      "385/385 [==============================] - 5s 12ms/step - loss: 0.1918 - accuracy: 0.7131 - val_loss: 0.1848 - val_accuracy: 0.7223 - lr: 0.0010\n",
      "Epoch 9/100\n",
      "383/385 [============================>.] - ETA: 0s - loss: 0.1910 - accuracy: 0.7143\n",
      "Epoch 9: val_loss did not improve from 0.18476\n",
      "385/385 [==============================] - 2s 6ms/step - loss: 0.1910 - accuracy: 0.7143 - val_loss: 0.1850 - val_accuracy: 0.7192 - lr: 0.0010\n",
      "Epoch 10/100\n",
      "384/385 [============================>.] - ETA: 0s - loss: 0.1902 - accuracy: 0.7153\n",
      "Epoch 10: val_loss improved from 0.18476 to 0.18436, saving model to .\\best_model_keras\n",
      "INFO:tensorflow:Assets written to: .\\best_model_keras\\assets\n"
     ]
    },
    {
     "name": "stderr",
     "output_type": "stream",
     "text": [
      "INFO:tensorflow:Assets written to: .\\best_model_keras\\assets\n"
     ]
    },
    {
     "name": "stdout",
     "output_type": "stream",
     "text": [
      "385/385 [==============================] - 5s 12ms/step - loss: 0.1902 - accuracy: 0.7154 - val_loss: 0.1844 - val_accuracy: 0.7249 - lr: 0.0010\n",
      "Epoch 11/100\n",
      "377/385 [============================>.] - ETA: 0s - loss: 0.1899 - accuracy: 0.7164\n",
      "Epoch 11: val_loss improved from 0.18436 to 0.18391, saving model to .\\best_model_keras\n",
      "INFO:tensorflow:Assets written to: .\\best_model_keras\\assets\n"
     ]
    },
    {
     "name": "stderr",
     "output_type": "stream",
     "text": [
      "INFO:tensorflow:Assets written to: .\\best_model_keras\\assets\n"
     ]
    },
    {
     "name": "stdout",
     "output_type": "stream",
     "text": [
      "385/385 [==============================] - 6s 15ms/step - loss: 0.1899 - accuracy: 0.7166 - val_loss: 0.1839 - val_accuracy: 0.7254 - lr: 0.0010\n",
      "Epoch 12/100\n",
      "385/385 [==============================] - ETA: 0s - loss: 0.1899 - accuracy: 0.7163\n",
      "Epoch 12: val_loss improved from 0.18391 to 0.18390, saving model to .\\best_model_keras\n",
      "INFO:tensorflow:Assets written to: .\\best_model_keras\\assets\n"
     ]
    },
    {
     "name": "stderr",
     "output_type": "stream",
     "text": [
      "INFO:tensorflow:Assets written to: .\\best_model_keras\\assets\n"
     ]
    },
    {
     "name": "stdout",
     "output_type": "stream",
     "text": [
      "385/385 [==============================] - 5s 13ms/step - loss: 0.1899 - accuracy: 0.7163 - val_loss: 0.1839 - val_accuracy: 0.7219 - lr: 0.0010\n",
      "Epoch 13/100\n",
      "380/385 [============================>.] - ETA: 0s - loss: 0.1898 - accuracy: 0.7163\n",
      "Epoch 13: val_loss improved from 0.18390 to 0.18364, saving model to .\\best_model_keras\n",
      "INFO:tensorflow:Assets written to: .\\best_model_keras\\assets\n"
     ]
    },
    {
     "name": "stderr",
     "output_type": "stream",
     "text": [
      "INFO:tensorflow:Assets written to: .\\best_model_keras\\assets\n"
     ]
    },
    {
     "name": "stdout",
     "output_type": "stream",
     "text": [
      "385/385 [==============================] - 4s 11ms/step - loss: 0.1896 - accuracy: 0.7166 - val_loss: 0.1836 - val_accuracy: 0.7243 - lr: 0.0010\n",
      "Epoch 14/100\n",
      "381/385 [============================>.] - ETA: 0s - loss: 0.1891 - accuracy: 0.7172\n",
      "Epoch 14: val_loss improved from 0.18364 to 0.18357, saving model to .\\best_model_keras\n",
      "INFO:tensorflow:Assets written to: .\\best_model_keras\\assets\n"
     ]
    },
    {
     "name": "stderr",
     "output_type": "stream",
     "text": [
      "INFO:tensorflow:Assets written to: .\\best_model_keras\\assets\n"
     ]
    },
    {
     "name": "stdout",
     "output_type": "stream",
     "text": [
      "385/385 [==============================] - 5s 14ms/step - loss: 0.1891 - accuracy: 0.7171 - val_loss: 0.1836 - val_accuracy: 0.7231 - lr: 0.0010\n",
      "Epoch 15/100\n",
      "383/385 [============================>.] - ETA: 0s - loss: 0.1885 - accuracy: 0.7166\n",
      "Epoch 15: val_loss improved from 0.18357 to 0.18272, saving model to .\\best_model_keras\n",
      "INFO:tensorflow:Assets written to: .\\best_model_keras\\assets\n"
     ]
    },
    {
     "name": "stderr",
     "output_type": "stream",
     "text": [
      "INFO:tensorflow:Assets written to: .\\best_model_keras\\assets\n"
     ]
    },
    {
     "name": "stdout",
     "output_type": "stream",
     "text": [
      "385/385 [==============================] - 5s 12ms/step - loss: 0.1885 - accuracy: 0.7168 - val_loss: 0.1827 - val_accuracy: 0.7240 - lr: 0.0010\n",
      "Epoch 16/100\n",
      "381/385 [============================>.] - ETA: 0s - loss: 0.1882 - accuracy: 0.7181\n",
      "Epoch 16: val_loss did not improve from 0.18272\n",
      "385/385 [==============================] - 3s 7ms/step - loss: 0.1883 - accuracy: 0.7178 - val_loss: 0.1834 - val_accuracy: 0.7235 - lr: 0.0010\n",
      "Epoch 17/100\n",
      "379/385 [============================>.] - ETA: 0s - loss: 0.1883 - accuracy: 0.7180\n",
      "Epoch 17: val_loss did not improve from 0.18272\n",
      "385/385 [==============================] - 3s 7ms/step - loss: 0.1884 - accuracy: 0.7177 - val_loss: 0.1834 - val_accuracy: 0.7231 - lr: 0.0010\n",
      "Epoch 18/100\n",
      "383/385 [============================>.] - ETA: 0s - loss: 0.1881 - accuracy: 0.7182\n",
      "Epoch 18: val_loss did not improve from 0.18272\n",
      "385/385 [==============================] - 3s 7ms/step - loss: 0.1880 - accuracy: 0.7183 - val_loss: 0.1831 - val_accuracy: 0.7247 - lr: 0.0010\n",
      "Epoch 19/100\n",
      "380/385 [============================>.] - ETA: 0s - loss: 0.1879 - accuracy: 0.7175\n",
      "Epoch 19: val_loss did not improve from 0.18272\n",
      "385/385 [==============================] - 3s 9ms/step - loss: 0.1881 - accuracy: 0.7172 - val_loss: 0.1831 - val_accuracy: 0.7256 - lr: 0.0010\n",
      "Epoch 20/100\n",
      "384/385 [============================>.] - ETA: 0s - loss: 0.1878 - accuracy: 0.7187\n",
      "Epoch 20: val_loss did not improve from 0.18272\n",
      "385/385 [==============================] - 3s 9ms/step - loss: 0.1878 - accuracy: 0.7186 - val_loss: 0.1828 - val_accuracy: 0.7234 - lr: 0.0010\n",
      "Epoch 21/100\n",
      "380/385 [============================>.] - ETA: 0s - loss: 0.1874 - accuracy: 0.7186\n",
      "Epoch 21: val_loss improved from 0.18272 to 0.18250, saving model to .\\best_model_keras\n",
      "INFO:tensorflow:Assets written to: .\\best_model_keras\\assets\n"
     ]
    },
    {
     "name": "stderr",
     "output_type": "stream",
     "text": [
      "INFO:tensorflow:Assets written to: .\\best_model_keras\\assets\n"
     ]
    },
    {
     "name": "stdout",
     "output_type": "stream",
     "text": [
      "385/385 [==============================] - 5s 14ms/step - loss: 0.1875 - accuracy: 0.7187 - val_loss: 0.1825 - val_accuracy: 0.7247 - lr: 0.0010\n",
      "Epoch 22/100\n",
      "376/385 [============================>.] - ETA: 0s - loss: 0.1875 - accuracy: 0.7185\n",
      "Epoch 22: val_loss improved from 0.18250 to 0.18171, saving model to .\\best_model_keras\n",
      "INFO:tensorflow:Assets written to: .\\best_model_keras\\assets\n"
     ]
    },
    {
     "name": "stderr",
     "output_type": "stream",
     "text": [
      "INFO:tensorflow:Assets written to: .\\best_model_keras\\assets\n"
     ]
    },
    {
     "name": "stdout",
     "output_type": "stream",
     "text": [
      "385/385 [==============================] - 5s 12ms/step - loss: 0.1875 - accuracy: 0.7187 - val_loss: 0.1817 - val_accuracy: 0.7281 - lr: 0.0010\n",
      "Epoch 23/100\n",
      "380/385 [============================>.] - ETA: 0s - loss: 0.1874 - accuracy: 0.7201\n",
      "Epoch 23: val_loss did not improve from 0.18171\n",
      "385/385 [==============================] - 3s 8ms/step - loss: 0.1873 - accuracy: 0.7204 - val_loss: 0.1820 - val_accuracy: 0.7265 - lr: 0.0010\n",
      "Epoch 24/100\n",
      "384/385 [============================>.] - ETA: 0s - loss: 0.1870 - accuracy: 0.7201\n",
      "Epoch 24: val_loss improved from 0.18171 to 0.18155, saving model to .\\best_model_keras\n",
      "INFO:tensorflow:Assets written to: .\\best_model_keras\\assets\n"
     ]
    },
    {
     "name": "stderr",
     "output_type": "stream",
     "text": [
      "INFO:tensorflow:Assets written to: .\\best_model_keras\\assets\n"
     ]
    },
    {
     "name": "stdout",
     "output_type": "stream",
     "text": [
      "385/385 [==============================] - 5s 13ms/step - loss: 0.1870 - accuracy: 0.7201 - val_loss: 0.1816 - val_accuracy: 0.7285 - lr: 0.0010\n",
      "Epoch 25/100\n",
      "384/385 [============================>.] - ETA: 0s - loss: 0.1862 - accuracy: 0.7218\n",
      "Epoch 25: val_loss did not improve from 0.18155\n",
      "385/385 [==============================] - 2s 6ms/step - loss: 0.1863 - accuracy: 0.7217 - val_loss: 0.1819 - val_accuracy: 0.7260 - lr: 0.0010\n",
      "Epoch 26/100\n",
      "380/385 [============================>.] - ETA: 0s - loss: 0.1870 - accuracy: 0.7198\n",
      "Epoch 26: val_loss improved from 0.18155 to 0.18139, saving model to .\\best_model_keras\n",
      "INFO:tensorflow:Assets written to: .\\best_model_keras\\assets\n"
     ]
    },
    {
     "name": "stderr",
     "output_type": "stream",
     "text": [
      "INFO:tensorflow:Assets written to: .\\best_model_keras\\assets\n"
     ]
    },
    {
     "name": "stdout",
     "output_type": "stream",
     "text": [
      "385/385 [==============================] - 4s 12ms/step - loss: 0.1871 - accuracy: 0.7197 - val_loss: 0.1814 - val_accuracy: 0.7275 - lr: 0.0010\n",
      "Epoch 27/100\n",
      "378/385 [============================>.] - ETA: 0s - loss: 0.1861 - accuracy: 0.7212\n",
      "Epoch 27: val_loss improved from 0.18139 to 0.18111, saving model to .\\best_model_keras\n",
      "INFO:tensorflow:Assets written to: .\\best_model_keras\\assets\n"
     ]
    },
    {
     "name": "stderr",
     "output_type": "stream",
     "text": [
      "INFO:tensorflow:Assets written to: .\\best_model_keras\\assets\n"
     ]
    },
    {
     "name": "stdout",
     "output_type": "stream",
     "text": [
      "385/385 [==============================] - 5s 13ms/step - loss: 0.1861 - accuracy: 0.7213 - val_loss: 0.1811 - val_accuracy: 0.7290 - lr: 0.0010\n",
      "Epoch 28/100\n",
      "380/385 [============================>.] - ETA: 0s - loss: 0.1863 - accuracy: 0.7219\n",
      "Epoch 28: val_loss did not improve from 0.18111\n",
      "385/385 [==============================] - 3s 7ms/step - loss: 0.1863 - accuracy: 0.7218 - val_loss: 0.1820 - val_accuracy: 0.7269 - lr: 0.0010\n",
      "Epoch 29/100\n",
      "384/385 [============================>.] - ETA: 0s - loss: 0.1856 - accuracy: 0.7226\n",
      "Epoch 29: val_loss did not improve from 0.18111\n",
      "385/385 [==============================] - 3s 7ms/step - loss: 0.1855 - accuracy: 0.7228 - val_loss: 0.1814 - val_accuracy: 0.7279 - lr: 0.0010\n",
      "Epoch 30/100\n",
      "382/385 [============================>.] - ETA: 0s - loss: 0.1860 - accuracy: 0.7206\n",
      "Epoch 30: val_loss improved from 0.18111 to 0.18065, saving model to .\\best_model_keras\n",
      "INFO:tensorflow:Assets written to: .\\best_model_keras\\assets\n"
     ]
    },
    {
     "name": "stderr",
     "output_type": "stream",
     "text": [
      "INFO:tensorflow:Assets written to: .\\best_model_keras\\assets\n"
     ]
    },
    {
     "name": "stdout",
     "output_type": "stream",
     "text": [
      "385/385 [==============================] - 5s 13ms/step - loss: 0.1860 - accuracy: 0.7207 - val_loss: 0.1807 - val_accuracy: 0.7287 - lr: 0.0010\n",
      "Epoch 31/100\n",
      "379/385 [============================>.] - ETA: 0s - loss: 0.1857 - accuracy: 0.7220\n",
      "Epoch 31: val_loss did not improve from 0.18065\n",
      "385/385 [==============================] - 3s 6ms/step - loss: 0.1858 - accuracy: 0.7219 - val_loss: 0.1808 - val_accuracy: 0.7285 - lr: 0.0010\n",
      "Epoch 32/100\n",
      "379/385 [============================>.] - ETA: 0s - loss: 0.1859 - accuracy: 0.7209\n",
      "Epoch 32: val_loss improved from 0.18065 to 0.18045, saving model to .\\best_model_keras\n",
      "INFO:tensorflow:Assets written to: .\\best_model_keras\\assets\n"
     ]
    },
    {
     "name": "stderr",
     "output_type": "stream",
     "text": [
      "INFO:tensorflow:Assets written to: .\\best_model_keras\\assets\n"
     ]
    },
    {
     "name": "stdout",
     "output_type": "stream",
     "text": [
      "385/385 [==============================] - 5s 14ms/step - loss: 0.1857 - accuracy: 0.7213 - val_loss: 0.1805 - val_accuracy: 0.7293 - lr: 0.0010\n",
      "Epoch 33/100\n",
      "378/385 [============================>.] - ETA: 0s - loss: 0.1856 - accuracy: 0.7214\n",
      "Epoch 33: val_loss improved from 0.18045 to 0.18021, saving model to .\\best_model_keras\n",
      "INFO:tensorflow:Assets written to: .\\best_model_keras\\assets\n"
     ]
    },
    {
     "name": "stderr",
     "output_type": "stream",
     "text": [
      "INFO:tensorflow:Assets written to: .\\best_model_keras\\assets\n"
     ]
    },
    {
     "name": "stdout",
     "output_type": "stream",
     "text": [
      "385/385 [==============================] - 5s 12ms/step - loss: 0.1856 - accuracy: 0.7217 - val_loss: 0.1802 - val_accuracy: 0.7289 - lr: 0.0010\n",
      "Epoch 34/100\n",
      "384/385 [============================>.] - ETA: 0s - loss: 0.1851 - accuracy: 0.7215\n",
      "Epoch 34: val_loss did not improve from 0.18021\n",
      "385/385 [==============================] - 2s 6ms/step - loss: 0.1852 - accuracy: 0.7214 - val_loss: 0.1810 - val_accuracy: 0.7293 - lr: 0.0010\n",
      "Epoch 35/100\n",
      "380/385 [============================>.] - ETA: 0s - loss: 0.1852 - accuracy: 0.7227\n",
      "Epoch 35: val_loss did not improve from 0.18021\n",
      "385/385 [==============================] - 3s 7ms/step - loss: 0.1852 - accuracy: 0.7228 - val_loss: 0.1814 - val_accuracy: 0.7274 - lr: 0.0010\n",
      "Epoch 36/100\n",
      "379/385 [============================>.] - ETA: 0s - loss: 0.1851 - accuracy: 0.7229\n",
      "Epoch 36: val_loss did not improve from 0.18021\n",
      "385/385 [==============================] - 3s 8ms/step - loss: 0.1852 - accuracy: 0.7226 - val_loss: 0.1808 - val_accuracy: 0.7255 - lr: 0.0010\n",
      "Epoch 37/100\n",
      "383/385 [============================>.] - ETA: 0s - loss: 0.1854 - accuracy: 0.7217\n",
      "Epoch 37: val_loss did not improve from 0.18021\n",
      "385/385 [==============================] - 3s 8ms/step - loss: 0.1854 - accuracy: 0.7218 - val_loss: 0.1803 - val_accuracy: 0.7308 - lr: 0.0010\n",
      "Epoch 38/100\n",
      "378/385 [============================>.] - ETA: 0s - loss: 0.1850 - accuracy: 0.7224\n",
      "Epoch 38: val_loss did not improve from 0.18021\n",
      "385/385 [==============================] - 3s 7ms/step - loss: 0.1849 - accuracy: 0.7226 - val_loss: 0.1805 - val_accuracy: 0.7275 - lr: 0.0010\n",
      "Epoch 39/100\n",
      "384/385 [============================>.] - ETA: 0s - loss: 0.1848 - accuracy: 0.7232\n",
      "Epoch 39: val_loss did not improve from 0.18021\n",
      "385/385 [==============================] - 3s 7ms/step - loss: 0.1848 - accuracy: 0.7233 - val_loss: 0.1803 - val_accuracy: 0.7300 - lr: 0.0010\n",
      "Epoch 40/100\n",
      "380/385 [============================>.] - ETA: 0s - loss: 0.1849 - accuracy: 0.7234\n",
      "Epoch 40: val_loss did not improve from 0.18021\n",
      "385/385 [==============================] - 3s 7ms/step - loss: 0.1849 - accuracy: 0.7234 - val_loss: 0.1802 - val_accuracy: 0.7293 - lr: 0.0010\n",
      "Epoch 41/100\n",
      "378/385 [============================>.] - ETA: 0s - loss: 0.1851 - accuracy: 0.7214\n",
      "Epoch 41: val_loss did not improve from 0.18021\n",
      "385/385 [==============================] - 3s 9ms/step - loss: 0.1850 - accuracy: 0.7213 - val_loss: 0.1807 - val_accuracy: 0.7276 - lr: 0.0010\n",
      "Epoch 42/100\n",
      "382/385 [============================>.] - ETA: 0s - loss: 0.1847 - accuracy: 0.7235\n",
      "Epoch 42: val_loss did not improve from 0.18021\n",
      "385/385 [==============================] - 3s 9ms/step - loss: 0.1849 - accuracy: 0.7229 - val_loss: 0.1806 - val_accuracy: 0.7280 - lr: 0.0010\n",
      "Epoch 43/100\n",
      "384/385 [============================>.] - ETA: 0s - loss: 0.1848 - accuracy: 0.7220\n",
      "Epoch 43: val_loss improved from 0.18021 to 0.18006, saving model to .\\best_model_keras\n",
      "INFO:tensorflow:Assets written to: .\\best_model_keras\\assets\n"
     ]
    },
    {
     "name": "stderr",
     "output_type": "stream",
     "text": [
      "INFO:tensorflow:Assets written to: .\\best_model_keras\\assets\n"
     ]
    },
    {
     "name": "stdout",
     "output_type": "stream",
     "text": [
      "\n",
      "Epoch 43: ReduceLROnPlateau reducing learning rate to 0.0007500000356230885.\n",
      "385/385 [==============================] - 6s 14ms/step - loss: 0.1848 - accuracy: 0.7220 - val_loss: 0.1801 - val_accuracy: 0.7281 - lr: 0.0010\n",
      "Epoch 44/100\n",
      "383/385 [============================>.] - ETA: 0s - loss: 0.1843 - accuracy: 0.7247\n",
      "Epoch 44: val_loss did not improve from 0.18006\n",
      "385/385 [==============================] - 3s 7ms/step - loss: 0.1843 - accuracy: 0.7246 - val_loss: 0.1803 - val_accuracy: 0.7290 - lr: 7.5000e-04\n",
      "Epoch 45/100\n",
      "382/385 [============================>.] - ETA: 0s - loss: 0.1844 - accuracy: 0.7242\n",
      "Epoch 45: val_loss did not improve from 0.18006\n",
      "385/385 [==============================] - 3s 7ms/step - loss: 0.1844 - accuracy: 0.7240 - val_loss: 0.1801 - val_accuracy: 0.7303 - lr: 7.5000e-04\n",
      "Epoch 46/100\n",
      "380/385 [============================>.] - ETA: 0s - loss: 0.1838 - accuracy: 0.7238\n",
      "Epoch 46: val_loss improved from 0.18006 to 0.17970, saving model to .\\best_model_keras\n",
      "INFO:tensorflow:Assets written to: .\\best_model_keras\\assets\n"
     ]
    },
    {
     "name": "stderr",
     "output_type": "stream",
     "text": [
      "INFO:tensorflow:Assets written to: .\\best_model_keras\\assets\n"
     ]
    },
    {
     "name": "stdout",
     "output_type": "stream",
     "text": [
      "385/385 [==============================] - 6s 14ms/step - loss: 0.1839 - accuracy: 0.7236 - val_loss: 0.1797 - val_accuracy: 0.7300 - lr: 7.5000e-04\n",
      "Epoch 47/100\n",
      "375/385 [============================>.] - ETA: 0s - loss: 0.1840 - accuracy: 0.7253\n",
      "Epoch 47: val_loss improved from 0.17970 to 0.17962, saving model to .\\best_model_keras\n",
      "INFO:tensorflow:Assets written to: .\\best_model_keras\\assets\n"
     ]
    },
    {
     "name": "stderr",
     "output_type": "stream",
     "text": [
      "INFO:tensorflow:Assets written to: .\\best_model_keras\\assets\n"
     ]
    },
    {
     "name": "stdout",
     "output_type": "stream",
     "text": [
      "385/385 [==============================] - 5s 13ms/step - loss: 0.1841 - accuracy: 0.7252 - val_loss: 0.1796 - val_accuracy: 0.7296 - lr: 7.5000e-04\n",
      "Epoch 48/100\n",
      "384/385 [============================>.] - ETA: 0s - loss: 0.1842 - accuracy: 0.7242\n",
      "Epoch 48: val_loss did not improve from 0.17962\n",
      "385/385 [==============================] - 2s 6ms/step - loss: 0.1842 - accuracy: 0.7242 - val_loss: 0.1801 - val_accuracy: 0.7290 - lr: 7.5000e-04\n",
      "Epoch 49/100\n",
      "385/385 [==============================] - ETA: 0s - loss: 0.1844 - accuracy: 0.7225\n",
      "Epoch 49: val_loss improved from 0.17962 to 0.17955, saving model to .\\best_model_keras\n",
      "INFO:tensorflow:Assets written to: .\\best_model_keras\\assets\n"
     ]
    },
    {
     "name": "stderr",
     "output_type": "stream",
     "text": [
      "INFO:tensorflow:Assets written to: .\\best_model_keras\\assets\n"
     ]
    },
    {
     "name": "stdout",
     "output_type": "stream",
     "text": [
      "385/385 [==============================] - 4s 12ms/step - loss: 0.1844 - accuracy: 0.7225 - val_loss: 0.1796 - val_accuracy: 0.7320 - lr: 7.5000e-04\n",
      "Epoch 50/100\n",
      "383/385 [============================>.] - ETA: 0s - loss: 0.1843 - accuracy: 0.7256\n",
      "Epoch 50: val_loss did not improve from 0.17955\n",
      "385/385 [==============================] - 3s 8ms/step - loss: 0.1843 - accuracy: 0.7255 - val_loss: 0.1804 - val_accuracy: 0.7295 - lr: 7.5000e-04\n",
      "Epoch 51/100\n",
      "382/385 [============================>.] - ETA: 0s - loss: 0.1844 - accuracy: 0.7252\n",
      "Epoch 51: val_loss did not improve from 0.17955\n",
      "385/385 [==============================] - 3s 9ms/step - loss: 0.1843 - accuracy: 0.7251 - val_loss: 0.1801 - val_accuracy: 0.7303 - lr: 7.5000e-04\n",
      "Epoch 52/100\n",
      "378/385 [============================>.] - ETA: 0s - loss: 0.1843 - accuracy: 0.7238\n",
      "Epoch 52: val_loss improved from 0.17955 to 0.17953, saving model to .\\best_model_keras\n",
      "INFO:tensorflow:Assets written to: .\\best_model_keras\\assets\n"
     ]
    },
    {
     "name": "stderr",
     "output_type": "stream",
     "text": [
      "INFO:tensorflow:Assets written to: .\\best_model_keras\\assets\n"
     ]
    },
    {
     "name": "stdout",
     "output_type": "stream",
     "text": [
      "385/385 [==============================] - 5s 12ms/step - loss: 0.1842 - accuracy: 0.7240 - val_loss: 0.1795 - val_accuracy: 0.7314 - lr: 7.5000e-04\n",
      "Epoch 53/100\n",
      "382/385 [============================>.] - ETA: 0s - loss: 0.1845 - accuracy: 0.7235\n",
      "Epoch 53: val_loss did not improve from 0.17953\n",
      "\n",
      "Epoch 53: ReduceLROnPlateau reducing learning rate to 0.0005625000048894435.\n",
      "385/385 [==============================] - 3s 8ms/step - loss: 0.1845 - accuracy: 0.7234 - val_loss: 0.1796 - val_accuracy: 0.7307 - lr: 7.5000e-04\n",
      "Epoch 54/100\n",
      "382/385 [============================>.] - ETA: 0s - loss: 0.1836 - accuracy: 0.7257\n",
      "Epoch 54: val_loss improved from 0.17953 to 0.17941, saving model to .\\best_model_keras\n",
      "INFO:tensorflow:Assets written to: .\\best_model_keras\\assets\n"
     ]
    },
    {
     "name": "stderr",
     "output_type": "stream",
     "text": [
      "INFO:tensorflow:Assets written to: .\\best_model_keras\\assets\n"
     ]
    },
    {
     "name": "stdout",
     "output_type": "stream",
     "text": [
      "385/385 [==============================] - 6s 15ms/step - loss: 0.1837 - accuracy: 0.7256 - val_loss: 0.1794 - val_accuracy: 0.7318 - lr: 5.6250e-04\n",
      "Epoch 55/100\n",
      "382/385 [============================>.] - ETA: 0s - loss: 0.1841 - accuracy: 0.7237\n",
      "Epoch 55: val_loss did not improve from 0.17941\n",
      "385/385 [==============================] - 2s 6ms/step - loss: 0.1840 - accuracy: 0.7238 - val_loss: 0.1795 - val_accuracy: 0.7299 - lr: 5.6250e-04\n",
      "Epoch 56/100\n",
      "380/385 [============================>.] - ETA: 0s - loss: 0.1837 - accuracy: 0.7261\n",
      "Epoch 56: val_loss did not improve from 0.17941\n",
      "385/385 [==============================] - 3s 7ms/step - loss: 0.1838 - accuracy: 0.7256 - val_loss: 0.1804 - val_accuracy: 0.7308 - lr: 5.6250e-04\n",
      "Epoch 57/100\n",
      "382/385 [============================>.] - ETA: 0s - loss: 0.1833 - accuracy: 0.7257\n",
      "Epoch 57: val_loss improved from 0.17941 to 0.17937, saving model to .\\best_model_keras\n",
      "INFO:tensorflow:Assets written to: .\\best_model_keras\\assets\n"
     ]
    },
    {
     "name": "stderr",
     "output_type": "stream",
     "text": [
      "INFO:tensorflow:Assets written to: .\\best_model_keras\\assets\n"
     ]
    },
    {
     "name": "stdout",
     "output_type": "stream",
     "text": [
      "385/385 [==============================] - 8s 20ms/step - loss: 0.1834 - accuracy: 0.7254 - val_loss: 0.1794 - val_accuracy: 0.7309 - lr: 5.6250e-04\n",
      "Epoch 58/100\n",
      "383/385 [============================>.] - ETA: 0s - loss: 0.1836 - accuracy: 0.7264\n",
      "Epoch 58: val_loss did not improve from 0.17937\n",
      "385/385 [==============================] - 4s 10ms/step - loss: 0.1836 - accuracy: 0.7264 - val_loss: 0.1796 - val_accuracy: 0.7316 - lr: 5.6250e-04\n",
      "Epoch 59/100\n",
      "382/385 [============================>.] - ETA: 0s - loss: 0.1835 - accuracy: 0.7260\n",
      "Epoch 59: val_loss improved from 0.17937 to 0.17930, saving model to .\\best_model_keras\n",
      "INFO:tensorflow:Assets written to: .\\best_model_keras\\assets\n"
     ]
    },
    {
     "name": "stderr",
     "output_type": "stream",
     "text": [
      "INFO:tensorflow:Assets written to: .\\best_model_keras\\assets\n"
     ]
    },
    {
     "name": "stdout",
     "output_type": "stream",
     "text": [
      "385/385 [==============================] - 8s 20ms/step - loss: 0.1835 - accuracy: 0.7259 - val_loss: 0.1793 - val_accuracy: 0.7313 - lr: 5.6250e-04\n",
      "Epoch 60/100\n",
      "381/385 [============================>.] - ETA: 0s - loss: 0.1837 - accuracy: 0.7249\n",
      "Epoch 60: val_loss improved from 0.17930 to 0.17926, saving model to .\\best_model_keras\n",
      "INFO:tensorflow:Assets written to: .\\best_model_keras\\assets\n"
     ]
    },
    {
     "name": "stderr",
     "output_type": "stream",
     "text": [
      "INFO:tensorflow:Assets written to: .\\best_model_keras\\assets\n"
     ]
    },
    {
     "name": "stdout",
     "output_type": "stream",
     "text": [
      "385/385 [==============================] - 6s 17ms/step - loss: 0.1837 - accuracy: 0.7249 - val_loss: 0.1793 - val_accuracy: 0.7305 - lr: 5.6250e-04\n",
      "Epoch 61/100\n",
      "384/385 [============================>.] - ETA: 0s - loss: 0.1840 - accuracy: 0.7241\n",
      "Epoch 61: val_loss did not improve from 0.17926\n",
      "385/385 [==============================] - 4s 10ms/step - loss: 0.1840 - accuracy: 0.7241 - val_loss: 0.1795 - val_accuracy: 0.7305 - lr: 5.6250e-04\n",
      "Epoch 62/100\n",
      "381/385 [============================>.] - ETA: 0s - loss: 0.1837 - accuracy: 0.7248\n",
      "Epoch 62: val_loss did not improve from 0.17926\n",
      "385/385 [==============================] - 3s 9ms/step - loss: 0.1835 - accuracy: 0.7253 - val_loss: 0.1799 - val_accuracy: 0.7321 - lr: 5.6250e-04\n",
      "Epoch 63/100\n",
      "382/385 [============================>.] - ETA: 0s - loss: 0.1837 - accuracy: 0.7243\n",
      "Epoch 63: val_loss did not improve from 0.17926\n",
      "\n",
      "Epoch 63: ReduceLROnPlateau reducing learning rate to 0.0004218749818392098.\n",
      "385/385 [==============================] - 4s 11ms/step - loss: 0.1837 - accuracy: 0.7245 - val_loss: 0.1793 - val_accuracy: 0.7308 - lr: 5.6250e-04\n",
      "Epoch 64/100\n",
      "381/385 [============================>.] - ETA: 0s - loss: 0.1835 - accuracy: 0.7239\n",
      "Epoch 64: val_loss did not improve from 0.17926\n",
      "385/385 [==============================] - 3s 9ms/step - loss: 0.1835 - accuracy: 0.7241 - val_loss: 0.1795 - val_accuracy: 0.7320 - lr: 4.2187e-04\n",
      "Epoch 65/100\n",
      "380/385 [============================>.] - ETA: 0s - loss: 0.1833 - accuracy: 0.7251\n",
      "Epoch 65: val_loss did not improve from 0.17926\n",
      "385/385 [==============================] - 3s 8ms/step - loss: 0.1834 - accuracy: 0.7252 - val_loss: 0.1793 - val_accuracy: 0.7316 - lr: 4.2187e-04\n",
      "Epoch 66/100\n",
      "382/385 [============================>.] - ETA: 0s - loss: 0.1834 - accuracy: 0.7255\n",
      "Epoch 66: val_loss did not improve from 0.17926\n",
      "385/385 [==============================] - 3s 9ms/step - loss: 0.1835 - accuracy: 0.7253 - val_loss: 0.1796 - val_accuracy: 0.7306 - lr: 4.2187e-04\n",
      "Epoch 67/100\n",
      "385/385 [==============================] - ETA: 0s - loss: 0.1834 - accuracy: 0.7262\n",
      "Epoch 67: val_loss did not improve from 0.17926\n",
      "385/385 [==============================] - 4s 11ms/step - loss: 0.1834 - accuracy: 0.7262 - val_loss: 0.1794 - val_accuracy: 0.7306 - lr: 4.2187e-04\n",
      "Epoch 68/100\n",
      "336/385 [=========================>....] - ETA: 0s - loss: 0.1834 - accuracy: 0.7268"
     ]
    },
    {
     "ename": "KeyboardInterrupt",
     "evalue": "",
     "output_type": "error",
     "traceback": [
      "\u001b[1;31m---------------------------------------------------------------------------\u001b[0m",
      "\u001b[1;31mKeyboardInterrupt\u001b[0m                         Traceback (most recent call last)",
      "File \u001b[1;32m<timed exec>:1\u001b[0m, in \u001b[0;36m<module>\u001b[1;34m\u001b[0m\n",
      "File \u001b[1;32m~\\anaconda3\\lib\\site-packages\\keras\\src\\utils\\traceback_utils.py:65\u001b[0m, in \u001b[0;36mfilter_traceback.<locals>.error_handler\u001b[1;34m(*args, **kwargs)\u001b[0m\n\u001b[0;32m     63\u001b[0m filtered_tb \u001b[38;5;241m=\u001b[39m \u001b[38;5;28;01mNone\u001b[39;00m\n\u001b[0;32m     64\u001b[0m \u001b[38;5;28;01mtry\u001b[39;00m:\n\u001b[1;32m---> 65\u001b[0m     \u001b[38;5;28;01mreturn\u001b[39;00m fn(\u001b[38;5;241m*\u001b[39margs, \u001b[38;5;241m*\u001b[39m\u001b[38;5;241m*\u001b[39mkwargs)\n\u001b[0;32m     66\u001b[0m \u001b[38;5;28;01mexcept\u001b[39;00m \u001b[38;5;167;01mException\u001b[39;00m \u001b[38;5;28;01mas\u001b[39;00m e:\n\u001b[0;32m     67\u001b[0m     filtered_tb \u001b[38;5;241m=\u001b[39m _process_traceback_frames(e\u001b[38;5;241m.\u001b[39m__traceback__)\n",
      "File \u001b[1;32m~\\anaconda3\\lib\\site-packages\\keras\\src\\engine\\training.py:1807\u001b[0m, in \u001b[0;36mModel.fit\u001b[1;34m(self, x, y, batch_size, epochs, verbose, callbacks, validation_split, validation_data, shuffle, class_weight, sample_weight, initial_epoch, steps_per_epoch, validation_steps, validation_batch_size, validation_freq, max_queue_size, workers, use_multiprocessing)\u001b[0m\n\u001b[0;32m   1799\u001b[0m \u001b[38;5;28;01mwith\u001b[39;00m tf\u001b[38;5;241m.\u001b[39mprofiler\u001b[38;5;241m.\u001b[39mexperimental\u001b[38;5;241m.\u001b[39mTrace(\n\u001b[0;32m   1800\u001b[0m     \u001b[38;5;124m\"\u001b[39m\u001b[38;5;124mtrain\u001b[39m\u001b[38;5;124m\"\u001b[39m,\n\u001b[0;32m   1801\u001b[0m     epoch_num\u001b[38;5;241m=\u001b[39mepoch,\n\u001b[1;32m   (...)\u001b[0m\n\u001b[0;32m   1804\u001b[0m     _r\u001b[38;5;241m=\u001b[39m\u001b[38;5;241m1\u001b[39m,\n\u001b[0;32m   1805\u001b[0m ):\n\u001b[0;32m   1806\u001b[0m     callbacks\u001b[38;5;241m.\u001b[39mon_train_batch_begin(step)\n\u001b[1;32m-> 1807\u001b[0m     tmp_logs \u001b[38;5;241m=\u001b[39m \u001b[38;5;28;43mself\u001b[39;49m\u001b[38;5;241;43m.\u001b[39;49m\u001b[43mtrain_function\u001b[49m\u001b[43m(\u001b[49m\u001b[43miterator\u001b[49m\u001b[43m)\u001b[49m\n\u001b[0;32m   1808\u001b[0m     \u001b[38;5;28;01mif\u001b[39;00m data_handler\u001b[38;5;241m.\u001b[39mshould_sync:\n\u001b[0;32m   1809\u001b[0m         context\u001b[38;5;241m.\u001b[39masync_wait()\n",
      "File \u001b[1;32m~\\anaconda3\\lib\\site-packages\\tensorflow\\python\\util\\traceback_utils.py:150\u001b[0m, in \u001b[0;36mfilter_traceback.<locals>.error_handler\u001b[1;34m(*args, **kwargs)\u001b[0m\n\u001b[0;32m    148\u001b[0m filtered_tb \u001b[38;5;241m=\u001b[39m \u001b[38;5;28;01mNone\u001b[39;00m\n\u001b[0;32m    149\u001b[0m \u001b[38;5;28;01mtry\u001b[39;00m:\n\u001b[1;32m--> 150\u001b[0m   \u001b[38;5;28;01mreturn\u001b[39;00m fn(\u001b[38;5;241m*\u001b[39margs, \u001b[38;5;241m*\u001b[39m\u001b[38;5;241m*\u001b[39mkwargs)\n\u001b[0;32m    151\u001b[0m \u001b[38;5;28;01mexcept\u001b[39;00m \u001b[38;5;167;01mException\u001b[39;00m \u001b[38;5;28;01mas\u001b[39;00m e:\n\u001b[0;32m    152\u001b[0m   filtered_tb \u001b[38;5;241m=\u001b[39m _process_traceback_frames(e\u001b[38;5;241m.\u001b[39m__traceback__)\n",
      "File \u001b[1;32m~\\anaconda3\\lib\\site-packages\\tensorflow\\python\\eager\\polymorphic_function\\polymorphic_function.py:832\u001b[0m, in \u001b[0;36mFunction.__call__\u001b[1;34m(self, *args, **kwds)\u001b[0m\n\u001b[0;32m    829\u001b[0m compiler \u001b[38;5;241m=\u001b[39m \u001b[38;5;124m\"\u001b[39m\u001b[38;5;124mxla\u001b[39m\u001b[38;5;124m\"\u001b[39m \u001b[38;5;28;01mif\u001b[39;00m \u001b[38;5;28mself\u001b[39m\u001b[38;5;241m.\u001b[39m_jit_compile \u001b[38;5;28;01melse\u001b[39;00m \u001b[38;5;124m\"\u001b[39m\u001b[38;5;124mnonXla\u001b[39m\u001b[38;5;124m\"\u001b[39m\n\u001b[0;32m    831\u001b[0m \u001b[38;5;28;01mwith\u001b[39;00m OptionalXlaContext(\u001b[38;5;28mself\u001b[39m\u001b[38;5;241m.\u001b[39m_jit_compile):\n\u001b[1;32m--> 832\u001b[0m   result \u001b[38;5;241m=\u001b[39m \u001b[38;5;28mself\u001b[39m\u001b[38;5;241m.\u001b[39m_call(\u001b[38;5;241m*\u001b[39margs, \u001b[38;5;241m*\u001b[39m\u001b[38;5;241m*\u001b[39mkwds)\n\u001b[0;32m    834\u001b[0m new_tracing_count \u001b[38;5;241m=\u001b[39m \u001b[38;5;28mself\u001b[39m\u001b[38;5;241m.\u001b[39mexperimental_get_tracing_count()\n\u001b[0;32m    835\u001b[0m without_tracing \u001b[38;5;241m=\u001b[39m (tracing_count \u001b[38;5;241m==\u001b[39m new_tracing_count)\n",
      "File \u001b[1;32m~\\anaconda3\\lib\\site-packages\\tensorflow\\python\\eager\\polymorphic_function\\polymorphic_function.py:868\u001b[0m, in \u001b[0;36mFunction._call\u001b[1;34m(self, *args, **kwds)\u001b[0m\n\u001b[0;32m    865\u001b[0m   \u001b[38;5;28mself\u001b[39m\u001b[38;5;241m.\u001b[39m_lock\u001b[38;5;241m.\u001b[39mrelease()\n\u001b[0;32m    866\u001b[0m   \u001b[38;5;66;03m# In this case we have created variables on the first call, so we run the\u001b[39;00m\n\u001b[0;32m    867\u001b[0m   \u001b[38;5;66;03m# defunned version which is guaranteed to never create variables.\u001b[39;00m\n\u001b[1;32m--> 868\u001b[0m   \u001b[38;5;28;01mreturn\u001b[39;00m \u001b[43mtracing_compilation\u001b[49m\u001b[38;5;241;43m.\u001b[39;49m\u001b[43mcall_function\u001b[49m\u001b[43m(\u001b[49m\n\u001b[0;32m    869\u001b[0m \u001b[43m      \u001b[49m\u001b[43margs\u001b[49m\u001b[43m,\u001b[49m\u001b[43m \u001b[49m\u001b[43mkwds\u001b[49m\u001b[43m,\u001b[49m\u001b[43m \u001b[49m\u001b[38;5;28;43mself\u001b[39;49m\u001b[38;5;241;43m.\u001b[39;49m\u001b[43m_no_variable_creation_config\u001b[49m\n\u001b[0;32m    870\u001b[0m \u001b[43m  \u001b[49m\u001b[43m)\u001b[49m\n\u001b[0;32m    871\u001b[0m \u001b[38;5;28;01melif\u001b[39;00m \u001b[38;5;28mself\u001b[39m\u001b[38;5;241m.\u001b[39m_variable_creation_config \u001b[38;5;129;01mis\u001b[39;00m \u001b[38;5;129;01mnot\u001b[39;00m \u001b[38;5;28;01mNone\u001b[39;00m:\n\u001b[0;32m    872\u001b[0m   \u001b[38;5;66;03m# Release the lock early so that multiple threads can perform the call\u001b[39;00m\n\u001b[0;32m    873\u001b[0m   \u001b[38;5;66;03m# in parallel.\u001b[39;00m\n\u001b[0;32m    874\u001b[0m   \u001b[38;5;28mself\u001b[39m\u001b[38;5;241m.\u001b[39m_lock\u001b[38;5;241m.\u001b[39mrelease()\n",
      "File \u001b[1;32m~\\anaconda3\\lib\\site-packages\\tensorflow\\python\\eager\\polymorphic_function\\tracing_compilation.py:139\u001b[0m, in \u001b[0;36mcall_function\u001b[1;34m(args, kwargs, tracing_options)\u001b[0m\n\u001b[0;32m    137\u001b[0m bound_args \u001b[38;5;241m=\u001b[39m function\u001b[38;5;241m.\u001b[39mfunction_type\u001b[38;5;241m.\u001b[39mbind(\u001b[38;5;241m*\u001b[39margs, \u001b[38;5;241m*\u001b[39m\u001b[38;5;241m*\u001b[39mkwargs)\n\u001b[0;32m    138\u001b[0m flat_inputs \u001b[38;5;241m=\u001b[39m function\u001b[38;5;241m.\u001b[39mfunction_type\u001b[38;5;241m.\u001b[39munpack_inputs(bound_args)\n\u001b[1;32m--> 139\u001b[0m \u001b[38;5;28;01mreturn\u001b[39;00m \u001b[43mfunction\u001b[49m\u001b[38;5;241;43m.\u001b[39;49m\u001b[43m_call_flat\u001b[49m\u001b[43m(\u001b[49m\u001b[43m  \u001b[49m\u001b[38;5;66;43;03m# pylint: disable=protected-access\u001b[39;49;00m\n\u001b[0;32m    140\u001b[0m \u001b[43m    \u001b[49m\u001b[43mflat_inputs\u001b[49m\u001b[43m,\u001b[49m\u001b[43m \u001b[49m\u001b[43mcaptured_inputs\u001b[49m\u001b[38;5;241;43m=\u001b[39;49m\u001b[43mfunction\u001b[49m\u001b[38;5;241;43m.\u001b[39;49m\u001b[43mcaptured_inputs\u001b[49m\n\u001b[0;32m    141\u001b[0m \u001b[43m\u001b[49m\u001b[43m)\u001b[49m\n",
      "File \u001b[1;32m~\\anaconda3\\lib\\site-packages\\tensorflow\\python\\eager\\polymorphic_function\\concrete_function.py:1323\u001b[0m, in \u001b[0;36mConcreteFunction._call_flat\u001b[1;34m(self, tensor_inputs, captured_inputs)\u001b[0m\n\u001b[0;32m   1319\u001b[0m possible_gradient_type \u001b[38;5;241m=\u001b[39m gradients_util\u001b[38;5;241m.\u001b[39mPossibleTapeGradientTypes(args)\n\u001b[0;32m   1320\u001b[0m \u001b[38;5;28;01mif\u001b[39;00m (possible_gradient_type \u001b[38;5;241m==\u001b[39m gradients_util\u001b[38;5;241m.\u001b[39mPOSSIBLE_GRADIENT_TYPES_NONE\n\u001b[0;32m   1321\u001b[0m     \u001b[38;5;129;01mand\u001b[39;00m executing_eagerly):\n\u001b[0;32m   1322\u001b[0m   \u001b[38;5;66;03m# No tape is watching; skip to running the function.\u001b[39;00m\n\u001b[1;32m-> 1323\u001b[0m   \u001b[38;5;28;01mreturn\u001b[39;00m \u001b[38;5;28;43mself\u001b[39;49m\u001b[38;5;241;43m.\u001b[39;49m\u001b[43m_inference_function\u001b[49m\u001b[38;5;241;43m.\u001b[39;49m\u001b[43mcall_preflattened\u001b[49m\u001b[43m(\u001b[49m\u001b[43margs\u001b[49m\u001b[43m)\u001b[49m\n\u001b[0;32m   1324\u001b[0m forward_backward \u001b[38;5;241m=\u001b[39m \u001b[38;5;28mself\u001b[39m\u001b[38;5;241m.\u001b[39m_select_forward_and_backward_functions(\n\u001b[0;32m   1325\u001b[0m     args,\n\u001b[0;32m   1326\u001b[0m     possible_gradient_type,\n\u001b[0;32m   1327\u001b[0m     executing_eagerly)\n\u001b[0;32m   1328\u001b[0m forward_function, args_with_tangents \u001b[38;5;241m=\u001b[39m forward_backward\u001b[38;5;241m.\u001b[39mforward()\n",
      "File \u001b[1;32m~\\anaconda3\\lib\\site-packages\\tensorflow\\python\\eager\\polymorphic_function\\atomic_function.py:216\u001b[0m, in \u001b[0;36mAtomicFunction.call_preflattened\u001b[1;34m(self, args)\u001b[0m\n\u001b[0;32m    214\u001b[0m \u001b[38;5;28;01mdef\u001b[39;00m \u001b[38;5;21mcall_preflattened\u001b[39m(\u001b[38;5;28mself\u001b[39m, args: Sequence[core\u001b[38;5;241m.\u001b[39mTensor]) \u001b[38;5;241m-\u001b[39m\u001b[38;5;241m>\u001b[39m Any:\n\u001b[0;32m    215\u001b[0m   \u001b[38;5;124;03m\"\"\"Calls with flattened tensor inputs and returns the structured output.\"\"\"\u001b[39;00m\n\u001b[1;32m--> 216\u001b[0m   flat_outputs \u001b[38;5;241m=\u001b[39m \u001b[38;5;28;43mself\u001b[39;49m\u001b[38;5;241;43m.\u001b[39;49m\u001b[43mcall_flat\u001b[49m\u001b[43m(\u001b[49m\u001b[38;5;241;43m*\u001b[39;49m\u001b[43margs\u001b[49m\u001b[43m)\u001b[49m\n\u001b[0;32m    217\u001b[0m   \u001b[38;5;28;01mreturn\u001b[39;00m \u001b[38;5;28mself\u001b[39m\u001b[38;5;241m.\u001b[39mfunction_type\u001b[38;5;241m.\u001b[39mpack_output(flat_outputs)\n",
      "File \u001b[1;32m~\\anaconda3\\lib\\site-packages\\tensorflow\\python\\eager\\polymorphic_function\\atomic_function.py:251\u001b[0m, in \u001b[0;36mAtomicFunction.call_flat\u001b[1;34m(self, *args)\u001b[0m\n\u001b[0;32m    249\u001b[0m \u001b[38;5;28;01mwith\u001b[39;00m record\u001b[38;5;241m.\u001b[39mstop_recording():\n\u001b[0;32m    250\u001b[0m   \u001b[38;5;28;01mif\u001b[39;00m \u001b[38;5;28mself\u001b[39m\u001b[38;5;241m.\u001b[39m_bound_context\u001b[38;5;241m.\u001b[39mexecuting_eagerly():\n\u001b[1;32m--> 251\u001b[0m     outputs \u001b[38;5;241m=\u001b[39m \u001b[38;5;28;43mself\u001b[39;49m\u001b[38;5;241;43m.\u001b[39;49m\u001b[43m_bound_context\u001b[49m\u001b[38;5;241;43m.\u001b[39;49m\u001b[43mcall_function\u001b[49m\u001b[43m(\u001b[49m\n\u001b[0;32m    252\u001b[0m \u001b[43m        \u001b[49m\u001b[38;5;28;43mself\u001b[39;49m\u001b[38;5;241;43m.\u001b[39;49m\u001b[43mname\u001b[49m\u001b[43m,\u001b[49m\n\u001b[0;32m    253\u001b[0m \u001b[43m        \u001b[49m\u001b[38;5;28;43mlist\u001b[39;49m\u001b[43m(\u001b[49m\u001b[43margs\u001b[49m\u001b[43m)\u001b[49m\u001b[43m,\u001b[49m\n\u001b[0;32m    254\u001b[0m \u001b[43m        \u001b[49m\u001b[38;5;28;43mlen\u001b[39;49m\u001b[43m(\u001b[49m\u001b[38;5;28;43mself\u001b[39;49m\u001b[38;5;241;43m.\u001b[39;49m\u001b[43mfunction_type\u001b[49m\u001b[38;5;241;43m.\u001b[39;49m\u001b[43mflat_outputs\u001b[49m\u001b[43m)\u001b[49m\u001b[43m,\u001b[49m\n\u001b[0;32m    255\u001b[0m \u001b[43m    \u001b[49m\u001b[43m)\u001b[49m\n\u001b[0;32m    256\u001b[0m   \u001b[38;5;28;01melse\u001b[39;00m:\n\u001b[0;32m    257\u001b[0m     outputs \u001b[38;5;241m=\u001b[39m make_call_op_in_graph(\n\u001b[0;32m    258\u001b[0m         \u001b[38;5;28mself\u001b[39m,\n\u001b[0;32m    259\u001b[0m         \u001b[38;5;28mlist\u001b[39m(args),\n\u001b[0;32m    260\u001b[0m         \u001b[38;5;28mself\u001b[39m\u001b[38;5;241m.\u001b[39m_bound_context\u001b[38;5;241m.\u001b[39mfunction_call_options\u001b[38;5;241m.\u001b[39mas_attrs(),\n\u001b[0;32m    261\u001b[0m     )\n",
      "File \u001b[1;32m~\\anaconda3\\lib\\site-packages\\tensorflow\\python\\eager\\context.py:1486\u001b[0m, in \u001b[0;36mContext.call_function\u001b[1;34m(self, name, tensor_inputs, num_outputs)\u001b[0m\n\u001b[0;32m   1484\u001b[0m cancellation_context \u001b[38;5;241m=\u001b[39m cancellation\u001b[38;5;241m.\u001b[39mcontext()\n\u001b[0;32m   1485\u001b[0m \u001b[38;5;28;01mif\u001b[39;00m cancellation_context \u001b[38;5;129;01mis\u001b[39;00m \u001b[38;5;28;01mNone\u001b[39;00m:\n\u001b[1;32m-> 1486\u001b[0m   outputs \u001b[38;5;241m=\u001b[39m \u001b[43mexecute\u001b[49m\u001b[38;5;241;43m.\u001b[39;49m\u001b[43mexecute\u001b[49m\u001b[43m(\u001b[49m\n\u001b[0;32m   1487\u001b[0m \u001b[43m      \u001b[49m\u001b[43mname\u001b[49m\u001b[38;5;241;43m.\u001b[39;49m\u001b[43mdecode\u001b[49m\u001b[43m(\u001b[49m\u001b[38;5;124;43m\"\u001b[39;49m\u001b[38;5;124;43mutf-8\u001b[39;49m\u001b[38;5;124;43m\"\u001b[39;49m\u001b[43m)\u001b[49m\u001b[43m,\u001b[49m\n\u001b[0;32m   1488\u001b[0m \u001b[43m      \u001b[49m\u001b[43mnum_outputs\u001b[49m\u001b[38;5;241;43m=\u001b[39;49m\u001b[43mnum_outputs\u001b[49m\u001b[43m,\u001b[49m\n\u001b[0;32m   1489\u001b[0m \u001b[43m      \u001b[49m\u001b[43minputs\u001b[49m\u001b[38;5;241;43m=\u001b[39;49m\u001b[43mtensor_inputs\u001b[49m\u001b[43m,\u001b[49m\n\u001b[0;32m   1490\u001b[0m \u001b[43m      \u001b[49m\u001b[43mattrs\u001b[49m\u001b[38;5;241;43m=\u001b[39;49m\u001b[43mattrs\u001b[49m\u001b[43m,\u001b[49m\n\u001b[0;32m   1491\u001b[0m \u001b[43m      \u001b[49m\u001b[43mctx\u001b[49m\u001b[38;5;241;43m=\u001b[39;49m\u001b[38;5;28;43mself\u001b[39;49m\u001b[43m,\u001b[49m\n\u001b[0;32m   1492\u001b[0m \u001b[43m  \u001b[49m\u001b[43m)\u001b[49m\n\u001b[0;32m   1493\u001b[0m \u001b[38;5;28;01melse\u001b[39;00m:\n\u001b[0;32m   1494\u001b[0m   outputs \u001b[38;5;241m=\u001b[39m execute\u001b[38;5;241m.\u001b[39mexecute_with_cancellation(\n\u001b[0;32m   1495\u001b[0m       name\u001b[38;5;241m.\u001b[39mdecode(\u001b[38;5;124m\"\u001b[39m\u001b[38;5;124mutf-8\u001b[39m\u001b[38;5;124m\"\u001b[39m),\n\u001b[0;32m   1496\u001b[0m       num_outputs\u001b[38;5;241m=\u001b[39mnum_outputs,\n\u001b[1;32m   (...)\u001b[0m\n\u001b[0;32m   1500\u001b[0m       cancellation_manager\u001b[38;5;241m=\u001b[39mcancellation_context,\n\u001b[0;32m   1501\u001b[0m   )\n",
      "File \u001b[1;32m~\\anaconda3\\lib\\site-packages\\tensorflow\\python\\eager\\execute.py:53\u001b[0m, in \u001b[0;36mquick_execute\u001b[1;34m(op_name, num_outputs, inputs, attrs, ctx, name)\u001b[0m\n\u001b[0;32m     51\u001b[0m \u001b[38;5;28;01mtry\u001b[39;00m:\n\u001b[0;32m     52\u001b[0m   ctx\u001b[38;5;241m.\u001b[39mensure_initialized()\n\u001b[1;32m---> 53\u001b[0m   tensors \u001b[38;5;241m=\u001b[39m \u001b[43mpywrap_tfe\u001b[49m\u001b[38;5;241;43m.\u001b[39;49m\u001b[43mTFE_Py_Execute\u001b[49m\u001b[43m(\u001b[49m\u001b[43mctx\u001b[49m\u001b[38;5;241;43m.\u001b[39;49m\u001b[43m_handle\u001b[49m\u001b[43m,\u001b[49m\u001b[43m \u001b[49m\u001b[43mdevice_name\u001b[49m\u001b[43m,\u001b[49m\u001b[43m \u001b[49m\u001b[43mop_name\u001b[49m\u001b[43m,\u001b[49m\n\u001b[0;32m     54\u001b[0m \u001b[43m                                      \u001b[49m\u001b[43minputs\u001b[49m\u001b[43m,\u001b[49m\u001b[43m \u001b[49m\u001b[43mattrs\u001b[49m\u001b[43m,\u001b[49m\u001b[43m \u001b[49m\u001b[43mnum_outputs\u001b[49m\u001b[43m)\u001b[49m\n\u001b[0;32m     55\u001b[0m \u001b[38;5;28;01mexcept\u001b[39;00m core\u001b[38;5;241m.\u001b[39m_NotOkStatusException \u001b[38;5;28;01mas\u001b[39;00m e:\n\u001b[0;32m     56\u001b[0m   \u001b[38;5;28;01mif\u001b[39;00m name \u001b[38;5;129;01mis\u001b[39;00m \u001b[38;5;129;01mnot\u001b[39;00m \u001b[38;5;28;01mNone\u001b[39;00m:\n",
      "\u001b[1;31mKeyboardInterrupt\u001b[0m: "
     ]
    }
   ],
   "source": [
    "%%time\n",
    "history = model.fit(x_train, y_train, epochs=100, verbose=1, batch_size=100,\n",
    "                    shuffle=True, validation_split=0.2,\n",
    "                    callbacks=[mcp, rlp, es])"
   ]
  },
  {
   "cell_type": "code",
   "execution_count": 67,
   "metadata": {},
   "outputs": [
    {
     "data": {
      "image/png": "[encoded data removed]",
      "text/plain": [
       "<Figure size 432x288 with 1 Axes>"
      ]
     },
     "metadata": {
      "needs_background": "light"
     },
     "output_type": "display_data"
    }
   ],
   "source": [
    "from IPython.core.interactiveshell import InteractiveShell\n",
    "InteractiveShell.ast_node_interactivity = \"last\"\n",
    "\n",
    "plt.figure()\n",
    "plt.plot(history.history['loss'])\n",
    "plt.plot(history.history['val_loss'])\n",
    "\n",
    "plt.title('Model Loss')\n",
    "plt.ylabel('Loss')\n",
    "plt.xlabel('Epoch')\n",
    "plt.legend(['loss', 'val_loss'])\n",
    "plt.show()"
   ]
  },
  {
   "cell_type": "code",
   "execution_count": 68,
   "metadata": {},
   "outputs": [
    {
     "data": {
      "image/png": "[encoded data removed]",
      "text/plain": [
       "<Figure size 432x288 with 1 Axes>"
      ]
     },
     "metadata": {
      "needs_background": "light"
     },
     "output_type": "display_data"
    }
   ],
   "source": [
    "from IPython.core.interactiveshell import InteractiveShell\n",
    "InteractiveShell.ast_node_interactivity = \"last\"\n",
    "\n",
    "plt.figure()\n",
    "plt.plot(history.history['accuracy'])\n",
    "plt.plot(history.history['val_accuracy'])\n",
    "\n",
    "plt.title('Model Accuracy')\n",
    "plt.ylabel('Accuracy')\n",
    "plt.xlabel('Epoch')\n",
    "plt.legend(['accuracy', 'val_accuracy'])\n",
    "plt.show()"
   ]
  },
  {
   "cell_type": "code",
   "execution_count": 69,
   "metadata": {},
   "outputs": [
    {
     "name": "stdout",
     "output_type": "stream",
     "text": [
      "376/376 [==============================] - 1s 1ms/step - loss: 0.1850 - accuracy: 0.7177\n",
      "Keras evaluate (last training) = [0.18500155210494995, 0.717684268951416]\n"
     ]
    }
   ],
   "source": [
    "from sklearn.metrics import confusion_matrix, cohen_kappa_score\n",
    "from sklearn.metrics import roc_auc_score, roc_curve, auc\n",
    "import seaborn as sns\n",
    "\n",
    "test_res = model.evaluate(x_test, y_test, verbose=1)\n",
    "print(\"Keras evaluate (last training) =\", test_res)"
   ]
  },
  {
   "cell_type": "code",
   "execution_count": 70,
   "metadata": {},
   "outputs": [
    {
     "name": "stdout",
     "output_type": "stream",
     "text": [
      "When threshold is 0.4, AUC for our model is 0.68983\n",
      "When threshold is 0.402, AUC for our model is 0.69046\n",
      "When threshold is 0.404, AUC for our model is 0.6907\n",
      "When threshold is 0.406, AUC for our model is 0.69131\n",
      "When threshold is 0.408, AUC for our model is 0.69177\n",
      "When threshold is 0.41, AUC for our model is 0.69238\n",
      "When threshold is 0.412, AUC for our model is 0.69278\n",
      "When threshold is 0.414, AUC for our model is 0.69294\n",
      "When threshold is 0.416, AUC for our model is 0.69317\n",
      "When threshold is 0.418, AUC for our model is 0.69359\n",
      "When threshold is 0.42, AUC for our model is 0.69373\n",
      "When threshold is 0.422, AUC for our model is 0.6941\n",
      "When threshold is 0.424, AUC for our model is 0.69467\n",
      "When threshold is 0.426, AUC for our model is 0.69506\n",
      "When threshold is 0.428, AUC for our model is 0.69593\n",
      "When threshold is 0.43, AUC for our model is 0.69622\n",
      "When threshold is 0.432, AUC for our model is 0.69687\n",
      "When threshold is 0.434, AUC for our model is 0.69721\n",
      "When threshold is 0.436, AUC for our model is 0.69817\n",
      "When threshold is 0.438, AUC for our model is 0.69828\n",
      "When threshold is 0.44, AUC for our model is 0.69916\n",
      "When threshold is 0.442, AUC for our model is 0.69995\n",
      "When threshold is 0.444, AUC for our model is 0.70018\n",
      "When threshold is 0.446, AUC for our model is 0.70113\n",
      "When threshold is 0.448, AUC for our model is 0.70124\n",
      "When threshold is 0.45, AUC for our model is 0.70144\n",
      "When threshold is 0.452, AUC for our model is 0.70172\n",
      "When threshold is 0.454, AUC for our model is 0.70205\n",
      "When threshold is 0.456, AUC for our model is 0.70272\n",
      "When threshold is 0.458, AUC for our model is 0.70287\n",
      "When threshold is 0.46, AUC for our model is 0.70325\n",
      "When threshold is 0.462, AUC for our model is 0.70405\n",
      "When threshold is 0.464, AUC for our model is 0.70389\n",
      "When threshold is 0.466, AUC for our model is 0.70449\n",
      "When threshold is 0.468, AUC for our model is 0.70455\n",
      "When threshold is 0.47, AUC for our model is 0.7052\n",
      "When threshold is 0.472, AUC for our model is 0.70589\n",
      "When threshold is 0.474, AUC for our model is 0.70646\n",
      "When threshold is 0.476, AUC for our model is 0.70635\n",
      "When threshold is 0.478, AUC for our model is 0.70666\n",
      "When threshold is 0.48, AUC for our model is 0.707\n",
      "When threshold is 0.482, AUC for our model is 0.70702\n",
      "When threshold is 0.484, AUC for our model is 0.70744\n",
      "When threshold is 0.486, AUC for our model is 0.70815\n",
      "When threshold is 0.488, AUC for our model is 0.7084\n",
      "When threshold is 0.49, AUC for our model is 0.70852\n",
      "When threshold is 0.492, AUC for our model is 0.70894\n",
      "When threshold is 0.494, AUC for our model is 0.70899\n",
      "When threshold is 0.496, AUC for our model is 0.70878\n",
      "When threshold is 0.498, AUC for our model is 0.70942\n",
      "When threshold is 0.5, AUC for our model is 0.71013\n",
      "When threshold is 0.502, AUC for our model is 0.71066\n",
      "When threshold is 0.504, AUC for our model is 0.71091\n",
      "When threshold is 0.506, AUC for our model is 0.71076\n",
      "When threshold is 0.508, AUC for our model is 0.71159\n",
      "When threshold is 0.51, AUC for our model is 0.71224\n",
      "When threshold is 0.512, AUC for our model is 0.71205\n",
      "When threshold is 0.514, AUC for our model is 0.71131\n",
      "When threshold is 0.516, AUC for our model is 0.71193\n",
      "When threshold is 0.518, AUC for our model is 0.71241\n",
      "When threshold is 0.52, AUC for our model is 0.7122\n",
      "When threshold is 0.522, AUC for our model is 0.71276\n",
      "When threshold is 0.524, AUC for our model is 0.71306\n",
      "When threshold is 0.526, AUC for our model is 0.71359\n",
      "When threshold is 0.528, AUC for our model is 0.71421\n",
      "When threshold is 0.53, AUC for our model is 0.7146\n",
      "When threshold is 0.532, AUC for our model is 0.71491\n",
      "When threshold is 0.534, AUC for our model is 0.7149\n",
      "When threshold is 0.536, AUC for our model is 0.71551\n",
      "When threshold is 0.538, AUC for our model is 0.71594\n",
      "When threshold is 0.54, AUC for our model is 0.71618\n",
      "When threshold is 0.542, AUC for our model is 0.71647\n",
      "When threshold is 0.544, AUC for our model is 0.71643\n",
      "When threshold is 0.546, AUC for our model is 0.71602\n",
      "When threshold is 0.548, AUC for our model is 0.71648\n",
      "When threshold is 0.55, AUC for our model is 0.71669\n",
      "When threshold is 0.552, AUC for our model is 0.71689\n",
      "When threshold is 0.554, AUC for our model is 0.71699\n",
      "When threshold is 0.556, AUC for our model is 0.71697\n",
      "When threshold is 0.558, AUC for our model is 0.7175\n",
      "When threshold is 0.56, AUC for our model is 0.71745\n",
      "When threshold is 0.562, AUC for our model is 0.71738\n",
      "When threshold is 0.564, AUC for our model is 0.71706\n",
      "When threshold is 0.566, AUC for our model is 0.71799\n",
      "When threshold is 0.568, AUC for our model is 0.71851\n",
      "When threshold is 0.57, AUC for our model is 0.71814\n",
      "When threshold is 0.572, AUC for our model is 0.71856\n",
      "When threshold is 0.574, AUC for our model is 0.71945\n",
      "When threshold is 0.576, AUC for our model is 0.7199\n",
      "When threshold is 0.578, AUC for our model is 0.71955\n",
      "When threshold is 0.58, AUC for our model is 0.71928\n",
      "When threshold is 0.582, AUC for our model is 0.71885\n",
      "When threshold is 0.584, AUC for our model is 0.71918\n",
      "When threshold is 0.586, AUC for our model is 0.71924\n",
      "When threshold is 0.588, AUC for our model is 0.71914\n",
      "When threshold is 0.59, AUC for our model is 0.71909\n",
      "When threshold is 0.592, AUC for our model is 0.71983\n",
      "When threshold is 0.594, AUC for our model is 0.71979\n",
      "When threshold is 0.596, AUC for our model is 0.71943\n",
      "When threshold is 0.598, AUC for our model is 0.71848\n"
     ]
    }
   ],
   "source": [
    "for i in range(0,100):\n",
    "    threshold = round(0.4 + 0.002*i,3)\n",
    "    \n",
    "    y_pred = model.predict(x_test, verbose=0)\n",
    "    y_pred = (y_pred > threshold)\n",
    "\n",
    "    auc = np.round(roc_auc_score(y_test, y_pred), 5)\n",
    "    print(\"When threshold is {}, AUC for our model is {}\".format(threshold,auc))"
   ]
  },
  {
   "cell_type": "code",
   "execution_count": 79,
   "metadata": {},
   "outputs": [
    {
     "name": "stdout",
     "output_type": "stream",
     "text": [
      "376/376 [==============================] - 0s 1ms/step\n",
      "Auc for our sample data is 0.71928\n"
     ]
    },
    {
     "data": {
      "image/png": "[encoded data removed]",
      "text/plain": [
       "<Figure size 432x288 with 1 Axes>"
      ]
     },
     "metadata": {
      "needs_background": "light"
     },
     "output_type": "display_data"
    }
   ],
   "source": [
    "y_pred = model.predict(x_test)\n",
    "y_pred = (y_pred > 0.58)\n",
    "\n",
    "auc = np.round(roc_auc_score(y_test, y_pred), 5)\n",
    "print(\"Auc for our sample data is {}\".format(auc))\n",
    "\n",
    "fpr, tpr, _ = roc_curve(y_test, y_pred)\n",
    "plt.plot(fpr, tpr)\n",
    "plt.show()"
   ]
  },
  {
   "cell_type": "code",
   "execution_count": 80,
   "metadata": {},
   "outputs": [
    {
     "data": {
      "text/plain": [
       "array([[3897, 1680],\n",
       "       [1677, 4768]], dtype=int64)"
      ]
     },
     "execution_count": 80,
     "metadata": {},
     "output_type": "execute_result"
    }
   ],
   "source": [
    "cm = confusion_matrix(y_test, y_pred)\n",
    "cm"
   ]
  },
  {
   "cell_type": "code",
   "execution_count": 81,
   "metadata": {},
   "outputs": [
    {
     "data": {
      "image/png": "[encoded data removed]",
      "text/plain": [
       "<Figure size 432x288 with 2 Axes>"
      ]
     },
     "metadata": {
      "needs_background": "light"
     },
     "output_type": "display_data"
    }
   ],
   "source": [
    "sns.heatmap(cm, annot=True)\n",
    "plt.show()"
   ]
  },
  {
   "cell_type": "code",
   "execution_count": 82,
   "metadata": {},
   "outputs": [
    {
     "name": "stdout",
     "output_type": "stream",
     "text": [
      "0.720761936449842\n"
     ]
    }
   ],
   "source": [
    "# Accuracy\n",
    "print((cm[0][0]+cm[1][1])/np.sum(cm))"
   ]
  },
  {
   "cell_type": "code",
   "execution_count": null,
   "metadata": {},
   "outputs": [],
   "source": []
  }
 ],
 "metadata": {
  "colab": {
   "collapsed_sections": [
    "G-_K8Hmkitcu",
    "6Rxe7BHKi0xU",
    "A0CC-XAziYuf",
    "Wq3R7uPS5pGx",
    "hFj7Zv5lUw0f",
    "LLOKANBV6OXx",
    "C2cPJEZtf8SI",
    "Tg8A5TV1Dc58",
    "eg7a78RRKOEI",
    "PlFUSqcMK6-N",
    "Jcr9ikG9AxIC",
    "D-jJiO8fC2sd"
   ],
   "name": "Model 2 - CNN.ipynb",
   "provenance": []
  },
  "kernelspec": {
   "display_name": "Python 3 (ipykernel)",
   "language": "python",
   "name": "python3"
  },
  "language_info": {
   "codemirror_mode": {
    "name": "ipython",
    "version": 3
   },
   "file_extension": ".py",
   "mimetype": "text/x-python",
   "name": "python",
   "nbconvert_exporter": "python",
   "pygments_lexer": "ipython3",
   "version": "3.9.12"
  }
 },
 "nbformat": 4,
 "nbformat_minor": 4
}
